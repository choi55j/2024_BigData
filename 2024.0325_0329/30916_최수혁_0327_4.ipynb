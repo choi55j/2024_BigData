{
  "nbformat": 4,
  "nbformat_minor": 0,
  "metadata": {
    "colab": {
      "provenance": []
    },
    "kernelspec": {
      "name": "python3",
      "display_name": "Python 3"
    },
    "language_info": {
      "name": "python"
    }
  },
  "cells": [
    {
      "cell_type": "markdown",
      "source": [
        "## 30916_최수혁_0327_4"
      ],
      "metadata": {
        "id": "pT7otGDB6Z3z"
      }
    },
    {
      "cell_type": "code",
      "execution_count": 1,
      "metadata": {
        "colab": {
          "base_uri": "https://localhost:8080/"
        },
        "id": "vz8nAPKd6M8D",
        "outputId": "f97f065b-5986-47b0-a530-1c8b52b6b100"
      },
      "outputs": [
        {
          "output_type": "stream",
          "name": "stdout",
          "text": [
            "학생 그룹 점수의 합계와 평균을 구합니다.\n",
            "1번 학생의 점수를 입력하세요. : 32\n",
            "2번 학생의 점수를 입력하세요. : 68\n",
            "3번 학생의 점수를 입력하세요. : 72\n",
            "4번 학생의 점수를 입력하세요. : 54\n",
            "5번 학생의 점수를 입력하세요. : 92\n",
            "합계는 318입니다.\n",
            "평균은 63.6입니다.\n"
          ]
        }
      ],
      "source": [
        "print('학생 그룹 점수의 합계와 평균을 구합니다.')\n",
        "a=int(input('1번 학생의 점수를 입력하세요. : '))\n",
        "b=int(input('2번 학생의 점수를 입력하세요. : '))\n",
        "c=int(input('3번 학생의 점수를 입력하세요. : '))\n",
        "d=int(input('4번 학생의 점수를 입력하세요. : '))\n",
        "e=int(input('5번 학생의 점수를 입력하세요. : '))\n",
        "f=a+b+c+d+e\n",
        "g=f/5\n",
        "print(f'합계는 {f}입니다.')\n",
        "print(f'평균은 {g}입니다.')"
      ]
    },
    {
      "cell_type": "code",
      "source": [
        "print('학생 그룹 점수의 합계와 평균을 구합니다.')\n",
        "a=int(input('1번 학생의 점수를 입력하세요. : '))\n",
        "b=int(input('2번 학생의 점수를 입력하세요. : '))\n",
        "c=int(input('3번 학생의 점수를 입력하세요. : '))\n",
        "d=int(input('4번 학생의 점수를 입력하세요. : '))\n",
        "e=int(input('5번 학생의 점수를 입력하세요. : '))\n",
        "\n",
        "total=0\n",
        "total+=a\n",
        "total+=b\n",
        "total+=c\n",
        "total+=d\n",
        "total+=e\n",
        "\n",
        "print(f'합계는 {total}입니다.')\n",
        "print(f'평균은 {total/5}입니다.')"
      ],
      "metadata": {
        "colab": {
          "base_uri": "https://localhost:8080/"
        },
        "id": "wC-n4Wuw8qqD",
        "outputId": "745b489a-0f5b-469e-9531-50308ac8acd7"
      },
      "execution_count": 2,
      "outputs": [
        {
          "output_type": "stream",
          "name": "stdout",
          "text": [
            "학생 그룹 점수의 합계와 평균을 구합니다.\n",
            "1번 학생의 점수를 입력하세요. : 32\n",
            "2번 학생의 점수를 입력하세요. : 68\n",
            "3번 학생의 점수를 입력하세요. : 72\n",
            "4번 학생의 점수를 입력하세요. : 54\n",
            "5번 학생의 점수를 입력하세요. : 92\n",
            "합계는 318입니다.\n",
            "평균은 63.6입니다.\n"
          ]
        }
      ]
    },
    {
      "cell_type": "markdown",
      "source": [
        "- 배열 : 묶음 단위로 값을 저장하는 자료구조\n",
        "  - 원소 : 배열에 저장된 각 객체\n",
        "  - 각 원소는 0,1,2-------- 순서대로 인덱스(주소)를 부여 받음\n",
        "  - 원소의 자료형은 int형 float형 어떤것도 상관없음\n",
        "  - 서로 다른 자료형은 같이 저장할 수 있음\n",
        "  - 배열 원소 자체를 배열에 저장할 수 있음"
      ],
      "metadata": {
        "id": "gOfLwqVD9gQq"
      }
    },
    {
      "cell_type": "code",
      "source": [
        "# list 선언\n",
        "list01 = [] #빈 리스트\n",
        "a = [1,2,3,4,5,]\n",
        "b = ['A','B','C']\n",
        "\n",
        "print(a)\n",
        "print(b)"
      ],
      "metadata": {
        "colab": {
          "base_uri": "https://localhost:8080/"
        },
        "id": "l0SsN0xx9dAN",
        "outputId": "d052a68c-4ae8-41d7-a20f-becd128cd12c"
      },
      "execution_count": 5,
      "outputs": [
        {
          "output_type": "stream",
          "name": "stdout",
          "text": [
            "[1, 2, 3, 4, 5]\n",
            "['A', 'B', 'C']\n"
          ]
        }
      ]
    },
    {
      "cell_type": "markdown",
      "source": [
        "- 튜플\n",
        "  - 원소에 순서를 매겨 결함한 것으로 원소를 변경할 수 없는 자료형\n",
        "  - ()만 사용하면 빈 튜플 생성"
      ],
      "metadata": {
        "id": "N6F56XtI-22C"
      }
    },
    {
      "cell_type": "code",
      "source": [
        "tuple01 = () #빈 튜플\n",
        "tuple02 = 1,2,3 # 괄호 없어도 사용 가능\n",
        "tuple03 = 'A','B','C'\n",
        "\n",
        "print(tuple01)\n",
        "print(tuple02)\n",
        "print(tuple03)"
      ],
      "metadata": {
        "colab": {
          "base_uri": "https://localhost:8080/"
        },
        "id": "qmpzOYQq-00q",
        "outputId": "02d54cbe-d392-4057-a935-5c62dc8dda8d"
      },
      "execution_count": 6,
      "outputs": [
        {
          "output_type": "stream",
          "name": "stdout",
          "text": [
            "()\n",
            "(1, 2, 3)\n",
            "('A', 'B', 'C')\n"
          ]
        }
      ]
    },
    {
      "cell_type": "code",
      "source": [
        "a=tuple(range(3,8))\n",
        "b=tuple(range(3,13,2)) # 두 칸 씩 띄워서\n",
        "print(a)\n",
        "print(b)"
      ],
      "metadata": {
        "colab": {
          "base_uri": "https://localhost:8080/"
        },
        "id": "G75cuQ5h_s5y",
        "outputId": "ac7c1543-118c-4a3b-e8bf-4bfa51804da4"
      },
      "execution_count": 9,
      "outputs": [
        {
          "output_type": "stream",
          "name": "stdout",
          "text": [
            "(3, 4, 5, 6, 7)\n",
            "(3, 5, 7, 9, 11)\n"
          ]
        }
      ]
    }
  ]
}