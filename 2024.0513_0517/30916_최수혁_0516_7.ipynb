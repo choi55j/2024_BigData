{
 "cells": [
  {
   "cell_type": "markdown",
   "id": "8fadd738",
   "metadata": {},
   "source": [
    "# 30916_ 최수혁_0516_7"
   ]
  },
  {
   "cell_type": "markdown",
   "id": "1c7f6f5a",
   "metadata": {},
   "source": [
    "## 이차원 리스트"
   ]
  },
  {
   "cell_type": "code",
   "execution_count": 2,
   "id": "1c617067",
   "metadata": {},
   "outputs": [
    {
     "name": "stdout",
     "output_type": "stream",
     "text": [
      "[[1, 2, 3], [4, 5, 6], [7, 8, 9]]\n"
     ]
    }
   ],
   "source": [
    "abc = [[1,2,3],[4,5,6],[7,8,9]]\n",
    "print(abc)"
   ]
  },
  {
   "cell_type": "code",
   "execution_count": 3,
   "id": "fa4c2e30",
   "metadata": {},
   "outputs": [
    {
     "name": "stdout",
     "output_type": "stream",
     "text": [
      "[1, 2, 3]\n",
      "[4, 5, 6]\n",
      "[7, 8, 9]\n"
     ]
    }
   ],
   "source": [
    "for row in abc:\n",
    "    print(row)"
   ]
  },
  {
   "cell_type": "code",
   "execution_count": 6,
   "id": "de23eaba",
   "metadata": {},
   "outputs": [
    {
     "name": "stdout",
     "output_type": "stream",
     "text": [
      "1\n",
      "6\n"
     ]
    }
   ],
   "source": [
    "print(abc[0][0])\n",
    "print(abc[1][2])"
   ]
  },
  {
   "cell_type": "code",
   "execution_count": 7,
   "id": "c460ad82",
   "metadata": {},
   "outputs": [
    {
     "name": "stdout",
     "output_type": "stream",
     "text": [
      "1\n",
      "4\n",
      "7\n"
     ]
    }
   ],
   "source": [
    "for i in abc:\n",
    "    print(i[0])"
   ]
  },
  {
   "cell_type": "code",
   "execution_count": 9,
   "id": "35547ff7",
   "metadata": {},
   "outputs": [
    {
     "name": "stdout",
     "output_type": "stream",
     "text": [
      "3\n",
      "6\n",
      "9\n"
     ]
    }
   ],
   "source": [
    "for i in abc:\n",
    "    print(i[2])"
   ]
  },
  {
   "cell_type": "code",
   "execution_count": 10,
   "id": "bd91f399",
   "metadata": {},
   "outputs": [
    {
     "name": "stdout",
     "output_type": "stream",
     "text": [
      "3\n",
      "6\n",
      "9\n"
     ]
    }
   ],
   "source": [
    "for i in abc:\n",
    "    print(i[-1])"
   ]
  },
  {
   "cell_type": "code",
   "execution_count": 13,
   "id": "f81c9ce4",
   "metadata": {},
   "outputs": [],
   "source": [
    "card = [['2020.03.04 18:56','주식회사 카카오페이',1000],\n",
    "        ['2020.03.03 14:54','네이버페이',51100],\n",
    "        ['2020.03.02 12:13','스타벅스코리아',10000],\n",
    "        ['2020.03.01 15:49','11번가',27500],\n",
    "        ['2020.02.26 11:40','주식회사 카카오페이',32500],\n",
    "        ['2020.02.26 11:38','주식회사 카카오페이',32500],\n",
    "        ['2020.02.22 15:00','G마켓',81500],\n",
    "        ['2020.02.22 15:15','네이버페이',131000]]"
   ]
  },
  {
   "cell_type": "code",
   "execution_count": 27,
   "id": "9ef8476d",
   "metadata": {},
   "outputs": [
    {
     "name": "stdout",
     "output_type": "stream",
     "text": [
      "주식회사 카카오페이\n",
      "11번가\n"
     ]
    }
   ],
   "source": [
    "print(card[0][1])\n",
    "print(card[3][1])"
   ]
  },
  {
   "cell_type": "code",
   "execution_count": 30,
   "id": "6d03a3e9",
   "metadata": {},
   "outputs": [],
   "source": [
    "olympic=[[1,'미국',46,37,38,121],\n",
    "         [2,'영국',27,23,17,67],\n",
    "         [3,'중국',26,18,26,70],\n",
    "         [4,'러시아',19,18,19,56],\n",
    "         [5,'독일',17,10,15,42],\n",
    "         [6,'일본',12,8,21,41],\n",
    "         [7,'프랑스',10,18,14,42],\n",
    "         [8,'대한민국',9,3,9,21]]"
   ]
  },
  {
   "cell_type": "code",
   "execution_count": 31,
   "id": "b78cb02f",
   "metadata": {},
   "outputs": [
    {
     "data": {
      "text/plain": [
       "[[1, '미국', 46, 37, 38, 121],\n",
       " [2, '영국', 27, 23, 17, 67],\n",
       " [3, '중국', 26, 18, 26, 70],\n",
       " [4, '러시아', 19, 18, 19, 56],\n",
       " [5, '독일', 17, 10, 15, 42],\n",
       " [6, '일본', 12, 8, 21, 41],\n",
       " [7, '프랑스', 10, 18, 14, 42],\n",
       " [8, '대한민국', 9, 3, 9, 21]]"
      ]
     },
     "execution_count": 31,
     "metadata": {},
     "output_type": "execute_result"
    }
   ],
   "source": [
    "olympic"
   ]
  },
  {
   "cell_type": "code",
   "execution_count": 46,
   "id": "69ef4c27",
   "metadata": {},
   "outputs": [
    {
     "name": "stdout",
     "output_type": "stream",
     "text": [
      "미국 : 46\n",
      "독일 : 17\n"
     ]
    }
   ],
   "source": [
    "print(f'{olympic[0][1]} : {olympic[0][2]}')\n",
    "print(f'{olympic[4][1]} : {olympic[4][2]}')"
   ]
  },
  {
   "cell_type": "code",
   "execution_count": 47,
   "id": "1ad92b26",
   "metadata": {},
   "outputs": [
    {
     "name": "stdout",
     "output_type": "stream",
     "text": [
      "[1, '미국']\n",
      "[2, '영국']\n",
      "[3, '중국']\n",
      "[4, '러시아']\n",
      "[5, '독일']\n",
      "[6, '일본']\n",
      "[7, '프랑스']\n",
      "[8, '대한민국']\n"
     ]
    }
   ],
   "source": [
    "for row in olympic:\n",
    "    print(row[:2])"
   ]
  },
  {
   "cell_type": "code",
   "execution_count": 55,
   "id": "2eca83df",
   "metadata": {},
   "outputs": [
    {
     "name": "stdout",
     "output_type": "stream",
     "text": [
      "은메달이 더 많은 나라\n",
      "프랑스\n"
     ]
    }
   ],
   "source": [
    "print('은메달이 더 많은 나라')\n",
    "for i in olympic:\n",
    "    if i[2]<i[3]:\n",
    "        print(i[1])"
   ]
  }
 ],
 "metadata": {
  "kernelspec": {
   "display_name": "Python 3 (ipykernel)",
   "language": "python",
   "name": "python3"
  },
  "language_info": {
   "codemirror_mode": {
    "name": "ipython",
    "version": 3
   },
   "file_extension": ".py",
   "mimetype": "text/x-python",
   "name": "python",
   "nbconvert_exporter": "python",
   "pygments_lexer": "ipython3",
   "version": "3.9.7"
  }
 },
 "nbformat": 4,
 "nbformat_minor": 5
}
