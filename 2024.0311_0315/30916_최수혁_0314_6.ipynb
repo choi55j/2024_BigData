{
 "cells": [
  {
   "cell_type": "markdown",
   "id": "3d962415",
   "metadata": {},
   "source": [
    "## 30916_최수혁_0314_6"
   ]
  },
  {
   "cell_type": "markdown",
   "id": "0a833c44",
   "metadata": {},
   "source": [
    "## 3.1 데이터를 저장하는 공간:변수\n",
    "### 3.1.1 변수란"
   ]
  },
  {
   "cell_type": "code",
   "execution_count": 85,
   "id": "26fc9c11",
   "metadata": {},
   "outputs": [],
   "source": [
    "a=10"
   ]
  },
  {
   "cell_type": "code",
   "execution_count": 86,
   "id": "01445353",
   "metadata": {},
   "outputs": [],
   "source": [
    "a=20"
   ]
  },
  {
   "cell_type": "code",
   "execution_count": 88,
   "id": "d23210bd",
   "metadata": {},
   "outputs": [
    {
     "name": "stdout",
     "output_type": "stream",
     "text": [
      "20\n"
     ]
    }
   ],
   "source": [
    "print(a)"
   ]
  },
  {
   "cell_type": "markdown",
   "id": "32db5e51",
   "metadata": {},
   "source": [
    "### 3.1.2 변수에 값을 저장하고 사용하기"
   ]
  },
  {
   "cell_type": "code",
   "execution_count": 89,
   "id": "f4b1bbbe",
   "metadata": {
    "scrolled": true
   },
   "outputs": [
    {
     "name": "stdout",
     "output_type": "stream",
     "text": [
      "a\n",
      "10\n"
     ]
    }
   ],
   "source": [
    "a=10\n",
    "print('a')\n",
    "print(a)"
   ]
  },
  {
   "cell_type": "code",
   "execution_count": 93,
   "id": "071ae27e",
   "metadata": {
    "scrolled": true
   },
   "outputs": [
    {
     "name": "stdout",
     "output_type": "stream",
     "text": [
      "10\n"
     ]
    }
   ],
   "source": [
    "가나다 = 10\n",
    "print(가나다)"
   ]
  },
  {
   "cell_type": "code",
   "execution_count": 101,
   "id": "92f94997",
   "metadata": {},
   "outputs": [
    {
     "name": "stdout",
     "output_type": "stream",
     "text": [
      "성일정보\n",
      "성일 정보\n"
     ]
    }
   ],
   "source": [
    "b = '성일'\n",
    "c = '정보'\n",
    "print(b+c)\n",
    "print(b,c)"
   ]
  },
  {
   "cell_type": "code",
   "execution_count": 105,
   "id": "4f95189a",
   "metadata": {},
   "outputs": [
    {
     "name": "stdout",
     "output_type": "stream",
     "text": [
      "유리 키는 175.5 , 나이는 21 취미는 programming 입니다!\n"
     ]
    }
   ],
   "source": [
    "name = '유리'\n",
    "height = 175.5\n",
    "age = 21\n",
    "hobby = 'programming'\n",
    "print(name, '키는',height,',','나이는' ,age,'취미는', hobby,'입니다!')"
   ]
  },
  {
   "cell_type": "markdown",
   "id": "7890271c",
   "metadata": {},
   "source": [
    "```\n",
    "제임스 키는 186 , 나이는 24 , 취미는 요리하기 입니다!\n",
    "```"
   ]
  },
  {
   "cell_type": "code",
   "execution_count": 113,
   "id": "41798a16",
   "metadata": {},
   "outputs": [
    {
     "name": "stdout",
     "output_type": "stream",
     "text": [
      "제임스 키는 186 , 나이는 24 , 취미는 요리하기 입니다!\n",
      "제임스 키는 186, 나이는 24, 취미는 요리하기입니다!\n",
      "제임스 키는 186, 나이는 24, 취미는 요리하기입니다!\n"
     ]
    }
   ],
   "source": [
    "name1 = '제임스'\n",
    "height1 = 186\n",
    "age1 = 24\n",
    "hobby1 = '요리하기'\n",
    "print(name1, '키는',height1,',','나이는' ,age1,',','취미는', hobby1,'입니다!')\n",
    "print('{} 키는 {}, 나이는 {}, 취미는 {}입니다!'.format(name1, height1, age1, hobby1))\n",
    "print(f'{name1} 키는 {height1}, 나이는 {age1}, 취미는 {hobby1}입니다!')"
   ]
  },
  {
   "cell_type": "markdown",
   "id": "e45c7b45",
   "metadata": {},
   "source": [
    ">원의 넓이를 구해봅시다.\n",
    "```\n",
    "공식 : 파이 * 반지름 ** 2\n",
    "p = 3.141592\n",
    "r = 5\n",
    "```"
   ]
  },
  {
   "cell_type": "code",
   "execution_count": 121,
   "id": "5743f589",
   "metadata": {},
   "outputs": [
    {
     "name": "stdout",
     "output_type": "stream",
     "text": [
      "78.5398\n",
      "원의 넓이 = 78.5398\n"
     ]
    }
   ],
   "source": [
    "p=3.141592\n",
    "r=5\n",
    "a = p*r**2\n",
    "print(p*r**2)\n",
    "print(f'원의 넓이 = {a}')"
   ]
  }
 ],
 "metadata": {
  "kernelspec": {
   "display_name": "Python 3 (ipykernel)",
   "language": "python",
   "name": "python3"
  },
  "language_info": {
   "codemirror_mode": {
    "name": "ipython",
    "version": 3
   },
   "file_extension": ".py",
   "mimetype": "text/x-python",
   "name": "python",
   "nbconvert_exporter": "python",
   "pygments_lexer": "ipython3",
   "version": "3.9.7"
  }
 },
 "nbformat": 4,
 "nbformat_minor": 5
}
