{
 "cells": [
  {
   "cell_type": "markdown",
   "id": "75e956e8",
   "metadata": {},
   "source": [
    "## 30916_최수혁_0312_4"
   ]
  },
  {
   "cell_type": "markdown",
   "id": "b9d2f77a",
   "metadata": {},
   "source": [
    "## 2.3 데이터를 넣는 입력 명령어\n",
    "### 2.3.2 입력 명령어 input()"
   ]
  },
  {
   "cell_type": "code",
   "execution_count": 1,
   "id": "4ae69883",
   "metadata": {},
   "outputs": [
    {
     "name": "stdout",
     "output_type": "stream",
     "text": [
      "성일정보고\n"
     ]
    },
    {
     "data": {
      "text/plain": [
       "'성일정보고'"
      ]
     },
     "execution_count": 1,
     "metadata": {},
     "output_type": "execute_result"
    }
   ],
   "source": [
    "input()"
   ]
  },
  {
   "cell_type": "code",
   "execution_count": 6,
   "id": "344d5016",
   "metadata": {},
   "outputs": [
    {
     "name": "stdout",
     "output_type": "stream",
     "text": [
      "이름 : 최수혁\n"
     ]
    },
    {
     "data": {
      "text/plain": [
       "'최수혁'"
      ]
     },
     "execution_count": 6,
     "metadata": {},
     "output_type": "execute_result"
    }
   ],
   "source": [
    "input(\"이름 : \")"
   ]
  },
  {
   "cell_type": "markdown",
   "id": "7e555c07",
   "metadata": {},
   "source": [
    "```\n",
    "아이디 : \n",
    "비밀번호 :\n",
    "```"
   ]
  },
  {
   "cell_type": "code",
   "execution_count": 9,
   "id": "b9f99092",
   "metadata": {
    "scrolled": true
   },
   "outputs": [
    {
     "name": "stdout",
     "output_type": "stream",
     "text": [
      "아이디 :111\n",
      "비밀번호 : 112\n"
     ]
    },
    {
     "data": {
      "text/plain": [
       "'112'"
      ]
     },
     "execution_count": 9,
     "metadata": {},
     "output_type": "execute_result"
    }
   ],
   "source": [
    "input(\"아이디 :\")\n",
    "input(\"비밀번호 : \")"
   ]
  },
  {
   "cell_type": "markdown",
   "id": "b29e6356",
   "metadata": {},
   "source": [
    "```\n",
    "학번을 입력하시오 -> 30900\n",
    "```"
   ]
  },
  {
   "cell_type": "code",
   "execution_count": 10,
   "id": "c1d122b0",
   "metadata": {},
   "outputs": [
    {
     "name": "stdout",
     "output_type": "stream",
     "text": [
      "학번을 입력하시오 ---->30916\n"
     ]
    },
    {
     "data": {
      "text/plain": [
       "'30916'"
      ]
     },
     "execution_count": 10,
     "metadata": {},
     "output_type": "execute_result"
    }
   ],
   "source": [
    "input('학번을 입력하시오 ---->')"
   ]
  },
  {
   "cell_type": "markdown",
   "id": "2711edfa",
   "metadata": {},
   "source": [
    "```\n",
    "---회원가입---\n",
    "아이디 gilbut\n",
    "가입을 환영합니다!\n",
    "```"
   ]
  },
  {
   "cell_type": "code",
   "execution_count": 11,
   "id": "d5262428",
   "metadata": {},
   "outputs": [
    {
     "name": "stdout",
     "output_type": "stream",
     "text": [
      "---회원가입---\n",
      "아이디 : gilbut\n",
      "가입을 환영합니다!\n"
     ]
    }
   ],
   "source": [
    "print('---회원가입---')\n",
    "input('아이디 : ')\n",
    "print('가입을 환영합니다!')"
   ]
  },
  {
   "cell_type": "markdown",
   "id": "eeb9f73f",
   "metadata": {},
   "source": [
    "```\n",
    "닉네임을 입력해 주세요 ---> 졔졔쌤\n",
    "졔졔쌤님 안녕하세요\n",
    "```"
   ]
  },
  {
   "cell_type": "code",
   "execution_count": 12,
   "id": "11d71c0e",
   "metadata": {
    "scrolled": true
   },
   "outputs": [
    {
     "name": "stdout",
     "output_type": "stream",
     "text": [
      "닉네임을 입력해 주세요 --->수\n",
      "수님 안녕하세요\n"
     ]
    }
   ],
   "source": [
    "print(input('닉네임을 입력해 주세요 --->')+ '님 안녕하세요')"
   ]
  }
 ],
 "metadata": {
  "kernelspec": {
   "display_name": "Python 3 (ipykernel)",
   "language": "python",
   "name": "python3"
  },
  "language_info": {
   "codemirror_mode": {
    "name": "ipython",
    "version": 3
   },
   "file_extension": ".py",
   "mimetype": "text/x-python",
   "name": "python",
   "nbconvert_exporter": "python",
   "pygments_lexer": "ipython3",
   "version": "3.9.7"
  }
 },
 "nbformat": 4,
 "nbformat_minor": 5
}
