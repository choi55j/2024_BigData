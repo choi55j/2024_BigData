{
 "cells": [
  {
   "cell_type": "markdown",
   "id": "8a2820f7",
   "metadata": {},
   "source": [
    "# 30916_최수혁_0520_1"
   ]
  },
  {
   "cell_type": "code",
   "execution_count": 16,
   "id": "d7a228d4",
   "metadata": {},
   "outputs": [],
   "source": [
    "olympic=[[1,'미국',46,37,38,121],\n",
    "         [2,'영국',27,23,17,67],\n",
    "         [3,'중국',26,18,26,70],\n",
    "         [4,'러시아',19,18,19,56],\n",
    "         [5,'독일',17,10,15,42],\n",
    "         [6,'일본',12,8,21,41],\n",
    "         [7,'프랑스',10,18,14,42],\n",
    "         [8,'대한민국',9,3,9,21]]"
   ]
  },
  {
   "cell_type": "code",
   "execution_count": 17,
   "id": "b04ac5de",
   "metadata": {},
   "outputs": [
    {
     "name": "stdout",
     "output_type": "stream",
     "text": [
      "미국 금메달 개수: 46\n",
      "독일 금메달 개수: 17\n"
     ]
    }
   ],
   "source": [
    "# 미국 독일 금메달 개수 출력해보기 행과 열의 주소 값을 이용합니다\n",
    "print(olympic[0][1],'금메달 개수:',olympic[0][2])\n",
    "print(olympic[4][1],'금메달 개수:',olympic[4][2])"
   ]
  },
  {
   "cell_type": "code",
   "execution_count": 18,
   "id": "4775dc8d",
   "metadata": {},
   "outputs": [
    {
     "name": "stdout",
     "output_type": "stream",
     "text": [
      "금메달보다 은메달이 더 많은 나라\n",
      "프랑스\n"
     ]
    }
   ],
   "source": [
    "# 금메달이 은메달이 더 많은 나라 출력하기\n",
    "print('금메달보다 은메달이 더 많은 나라')\n",
    "for row in olympic:\n",
    "    if row[2]<row[3]:\n",
    "        print(row[1])"
   ]
  },
  {
   "cell_type": "code",
   "execution_count": 19,
   "id": "08a85e66",
   "metadata": {
    "scrolled": true
   },
   "outputs": [
    {
     "name": "stdout",
     "output_type": "stream",
     "text": [
      "금메달보다 동메달이 더 많은 나라\n",
      "일본\n",
      "프랑스\n"
     ]
    }
   ],
   "source": [
    "# 금메달보다 동메달이 더 많은 나라 출력하기\n",
    "print(f'금메달보다 동메달이 더 많은 나라')\n",
    "for row in olympic:\n",
    "    if row[2]<row[4]:\n",
    "        print(row[1])"
   ]
  },
  {
   "cell_type": "code",
   "execution_count": 22,
   "id": "d9873212",
   "metadata": {},
   "outputs": [
    {
     "name": "stdout",
     "output_type": "stream",
     "text": [
      "금메달 전체의 개수는?\n",
      "166\n"
     ]
    }
   ],
   "source": [
    "# 금메달의 전체 개수를 출력하기\n",
    "print('금메달 전체의 개수는?')\n",
    "total_gold = 0\n",
    "for row in olympic:\n",
    "    total_gold += row[2]\n",
    "print(total_gold)"
   ]
  },
  {
   "cell_type": "code",
   "execution_count": 30,
   "id": "1fe17f73",
   "metadata": {},
   "outputs": [
    {
     "name": "stdout",
     "output_type": "stream",
     "text": [
      "['역사탐험대', '파이썬', '학습법', '영단어', '여행에세이', '삼국지']\n",
      "[18777, 23219, 18335, 18276, 19438, 23009]\n"
     ]
    }
   ],
   "source": [
    "import random\n",
    "\n",
    "book_name=[\"역사탐험대\",\"파이썬\",\"학습법\",\"영단어\",\"여행에세이\",\"삼국지\"]\n",
    "price = []\n",
    "\n",
    "for i in range(len(book_name)):\n",
    "    price.append(random.randint(15000,25000))\n",
    "    \n",
    "print(book_name)\n",
    "print(price)"
   ]
  },
  {
   "cell_type": "code",
   "execution_count": 33,
   "id": "c9eefd23",
   "metadata": {
    "scrolled": true
   },
   "outputs": [
    {
     "name": "stdout",
     "output_type": "stream",
     "text": [
      "가장 비싼 책은?? \n",
      "파이썬 23219\n"
     ]
    }
   ],
   "source": [
    "# 가장 비싼 책은?\n",
    "print('가장 비싼 책은?? ')\n",
    "exp = max(price)\n",
    "idx = price.index(exp)\n",
    "print(book_name[idx],exp)"
   ]
  }
 ],
 "metadata": {
  "kernelspec": {
   "display_name": "Python 3 (ipykernel)",
   "language": "python",
   "name": "python3"
  },
  "language_info": {
   "codemirror_mode": {
    "name": "ipython",
    "version": 3
   },
   "file_extension": ".py",
   "mimetype": "text/x-python",
   "name": "python",
   "nbconvert_exporter": "python",
   "pygments_lexer": "ipython3",
   "version": "3.9.7"
  }
 },
 "nbformat": 4,
 "nbformat_minor": 5
}
