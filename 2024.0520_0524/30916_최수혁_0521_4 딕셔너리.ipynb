{
 "cells": [
  {
   "cell_type": "markdown",
   "id": "f3e140f6",
   "metadata": {},
   "source": [
    "# 30916_최수혁_0521_4"
   ]
  },
  {
   "cell_type": "markdown",
   "id": "af105444",
   "metadata": {},
   "source": [
    "## 딕셔너리 : 사전\n",
    "- 키와 값으로 구성된다.\n",
    "- {}를 이용한다"
   ]
  },
  {
   "cell_type": "code",
   "execution_count": 1,
   "id": "5414fa64",
   "metadata": {},
   "outputs": [
    {
     "name": "stdout",
     "output_type": "stream",
     "text": [
      "{'break': '깨어지다', 'bring': '가져오다', 'brush': '붓', 'brave': '용감한'}\n"
     ]
    }
   ],
   "source": [
    "eng = {'break':'깨어지다','bring':'가져오다','brush':'붓','brave':'용감한'}\n",
    "print(eng)"
   ]
  },
  {
   "cell_type": "code",
   "execution_count": 2,
   "id": "90a7b60e",
   "metadata": {},
   "outputs": [
    {
     "name": "stdout",
     "output_type": "stream",
     "text": [
      "깨어지다\n"
     ]
    }
   ],
   "source": [
    "print(eng['break'])"
   ]
  },
  {
   "cell_type": "code",
   "execution_count": 5,
   "id": "c8bb827d",
   "metadata": {},
   "outputs": [
    {
     "name": "stdout",
     "output_type": "stream",
     "text": [
      "붓\n",
      "용감한\n"
     ]
    }
   ],
   "source": [
    "print(eng[\"brush\"])\n",
    "print(eng[\"brave\"])"
   ]
  },
  {
   "cell_type": "code",
   "execution_count": 9,
   "id": "151b578e",
   "metadata": {},
   "outputs": [
    {
     "name": "stdout",
     "output_type": "stream",
     "text": [
      "어떤 메뉴를 드시겠습니까? 치즈라면\n",
      "4000 원 입니다\n"
     ]
    }
   ],
   "source": [
    "menu = {'김밥':2500,'참치김밥':3500,'라면':3000,'치즈라면':4000}\n",
    "eat = input('어떤 메뉴를 드시겠습니까? ')\n",
    "print(menu[eat],'원 입니다')"
   ]
  },
  {
   "cell_type": "code",
   "execution_count": 11,
   "id": "89726e07",
   "metadata": {},
   "outputs": [
    {
     "data": {
      "text/plain": [
       "{'김밥': 2500, '참치김밥': 3500, '라면': 3500, '치즈라면': 4500}"
      ]
     },
     "execution_count": 11,
     "metadata": {},
     "output_type": "execute_result"
    }
   ],
   "source": [
    "menu['라면'] = 3500\n",
    "menu['치즈라면'] = 4500\n",
    "menu"
   ]
  },
  {
   "cell_type": "code",
   "execution_count": 13,
   "id": "e8ba340d",
   "metadata": {},
   "outputs": [
    {
     "data": {
      "text/plain": [
       "{'김밥': 3500, '참치김밥': 3500, '라면': 3500, '치즈라면': 4500}"
      ]
     },
     "execution_count": 13,
     "metadata": {},
     "output_type": "execute_result"
    }
   ],
   "source": [
    "menu['김밥'] +=500\n",
    "menu"
   ]
  },
  {
   "cell_type": "code",
   "execution_count": 15,
   "id": "afc1331f",
   "metadata": {},
   "outputs": [
    {
     "data": {
      "text/plain": [
       "{'김밥': 3500, '참치김밥': 3500, '라면': 3500, '치즈라면': 4500, '돈가스': 6000}"
      ]
     },
     "execution_count": 15,
     "metadata": {},
     "output_type": "execute_result"
    }
   ],
   "source": [
    "# 돈가스 6000원 추가\n",
    "\n",
    "menu['돈가스'] = 6000\n",
    "menu"
   ]
  },
  {
   "cell_type": "code",
   "execution_count": 22,
   "id": "7d8b2869",
   "metadata": {},
   "outputs": [
    {
     "name": "stdout",
     "output_type": "stream",
     "text": [
      "추가할 메뉴는? 돈가스\n",
      "메뉴의 가격은? 6000\n"
     ]
    },
    {
     "data": {
      "text/plain": [
       "{'김밥': 2500, '참치김밥': 3500, '라면': 3000, '치즈라면': 4000, '돈가스': 6000}"
      ]
     },
     "execution_count": 22,
     "metadata": {},
     "output_type": "execute_result"
    }
   ],
   "source": [
    "menu = {'김밥':2500,'참치김밥':3500,'라면':3000,'치즈라면':4000}\n",
    "# 메뉴 및 가격을 input를 이용하여 추가하는 프로그램 만들기\n",
    "name = input('추가할 메뉴는? ')\n",
    "price = int(input('메뉴의 가격은? '))\n",
    "\n",
    "menu[name] = price\n",
    "menu"
   ]
  },
  {
   "cell_type": "code",
   "execution_count": 23,
   "id": "a36f36fa",
   "metadata": {},
   "outputs": [
    {
     "name": "stdout",
     "output_type": "stream",
     "text": [
      "{'김밥': 2500, '참치김밥': 3500, '라면': 3000, '치즈라면': 4000, '돈가스': 6000}\n",
      "삭제할 메뉴는? 돈가스\n",
      "{'김밥': 2500, '참치김밥': 3500, '라면': 3000, '치즈라면': 4000}\n"
     ]
    }
   ],
   "source": [
    "# 키 값 삭제하기 del\n",
    "# 돈가스 삭제\n",
    "print(menu)\n",
    "name = input('삭제할 메뉴는? ')\n",
    "\n",
    "del menu[name]\n",
    "print(menu)"
   ]
  },
  {
   "cell_type": "code",
   "execution_count": 24,
   "id": "ab05e457",
   "metadata": {},
   "outputs": [
    {
     "name": "stdout",
     "output_type": "stream",
     "text": [
      "dict_keys(['김밥', '참치김밥', '라면', '치즈라면'])\n"
     ]
    }
   ],
   "source": [
    "# 딕셔너리 키만 꺼내기 : keys()\n",
    "print(menu.keys())"
   ]
  },
  {
   "cell_type": "code",
   "execution_count": 25,
   "id": "b8d8f976",
   "metadata": {},
   "outputs": [
    {
     "name": "stdout",
     "output_type": "stream",
     "text": [
      "dict_values([2500, 3500, 3000, 4000])\n"
     ]
    }
   ],
   "source": [
    "# 딕셔너리 벨류만 꺼내기 : values()\n",
    "print(menu.values())"
   ]
  },
  {
   "cell_type": "code",
   "execution_count": 26,
   "id": "0c11d325",
   "metadata": {},
   "outputs": [
    {
     "name": "stdout",
     "output_type": "stream",
     "text": [
      "['김밥', '참치김밥', '라면', '치즈라면']\n"
     ]
    }
   ],
   "source": [
    "# 추출한 키값을 리스트로 바꾸기\n",
    "print(list(menu.keys()))"
   ]
  },
  {
   "cell_type": "code",
   "execution_count": 27,
   "id": "55fb5c75",
   "metadata": {},
   "outputs": [
    {
     "name": "stdout",
     "output_type": "stream",
     "text": [
      "[2500, 3500, 3000, 4000]\n"
     ]
    }
   ],
   "source": [
    "# 추출한 벨류 값을 리스트로 바꾸기\n",
    "print(list(menu.values()))"
   ]
  },
  {
   "cell_type": "code",
   "execution_count": 28,
   "id": "e4c9a300",
   "metadata": {},
   "outputs": [
    {
     "name": "stdout",
     "output_type": "stream",
     "text": [
      "dict_items([('김밥', 2500), ('참치김밥', 3500), ('라면', 3000), ('치즈라면', 4000)])\n"
     ]
    }
   ],
   "source": [
    "# key + value = items\n",
    "\n",
    "print(menu.items())"
   ]
  },
  {
   "cell_type": "code",
   "execution_count": 30,
   "id": "f9ad3963",
   "metadata": {},
   "outputs": [
    {
     "name": "stdout",
     "output_type": "stream",
     "text": [
      "['김밥', '라면', '참치김밥', '치즈라면']\n",
      "['치즈라면', '참치김밥', '라면', '김밥']\n"
     ]
    }
   ],
   "source": [
    "# 키를 기준으로 딕셔너리 정렬하기 : sorted\n",
    "# 키를 기준으로 딕셔너리 역순 정렬하기 : reverse = True\n",
    "print(sorted(menu.keys()))\n",
    "print(sorted(menu.keys(), reverse = True))"
   ]
  },
  {
   "cell_type": "code",
   "execution_count": 31,
   "id": "00979a65",
   "metadata": {},
   "outputs": [
    {
     "name": "stdout",
     "output_type": "stream",
     "text": [
      "[2500, 3000, 3500, 4000]\n",
      "[4000, 3500, 3000, 2500]\n"
     ]
    }
   ],
   "source": [
    "# 벨류를 기준으로 딕셔너리 정렬하기 : sorted\n",
    "# 벨류를 기준으로 딕셔너리 역순 정렬하기 : reverse = True\n",
    "print(sorted(menu.values()))\n",
    "print(sorted(menu.values(), reverse = True))"
   ]
  },
  {
   "cell_type": "code",
   "execution_count": 33,
   "id": "e9bd91e5",
   "metadata": {},
   "outputs": [
    {
     "name": "stdout",
     "output_type": "stream",
     "text": [
      "[('김밥', 2500), ('라면', 3000), ('참치김밥', 3500), ('치즈라면', 4000)]\n"
     ]
    }
   ],
   "source": [
    "# 키-값 쌍을 묶어서 딕셔너리 정렬하기 : sorted().items\n",
    "print(sorted(menu.items()))"
   ]
  },
  {
   "cell_type": "code",
   "execution_count": 35,
   "id": "f5d2efef",
   "metadata": {},
   "outputs": [
    {
     "name": "stdout",
     "output_type": "stream",
     "text": [
      "[('치즈라면', 4000), ('참치김밥', 3500), ('라면', 3000), ('김밥', 2500)]\n"
     ]
    }
   ],
   "source": [
    "import operator\n",
    "\n",
    "print(sorted(menu.items(),key=operator.itemgetter(1), reverse=True))"
   ]
  },
  {
   "cell_type": "code",
   "execution_count": 38,
   "id": "acc17537",
   "metadata": {},
   "outputs": [
    {
     "name": "stdout",
     "output_type": "stream",
     "text": [
      "[('치즈라면', 4000), ('참치김밥', 3500)]\n"
     ]
    }
   ],
   "source": [
    "print(sorted(menu.items(),key=operator.itemgetter(1), reverse=True)[:2])"
   ]
  },
  {
   "cell_type": "markdown",
   "id": "daa285a9",
   "metadata": {},
   "source": [
    "## 조건문으로 딕셔너리 다루기"
   ]
  },
  {
   "cell_type": "code",
   "execution_count": 41,
   "id": "1410de9a",
   "metadata": {},
   "outputs": [
    {
     "name": "stdout",
     "output_type": "stream",
     "text": [
      "{'도윤': 43, '하윤': 82, '시우': 76, '지유': 61, '주원': 94}\n",
      "어떤 학생의 점수가 궁금하신가요? 지유\n",
      "61 점 입니다.\n"
     ]
    }
   ],
   "source": [
    "midterm = {'도윤':43,'하윤':82,'시우':76,'지유':61,'주원':94}\n",
    "print(midterm)\n",
    "student = input('어떤 학생의 점수가 궁금하신가요? ')\n",
    "\n",
    "# if 어떤 학생인지 찾기\n",
    "if student in midterm.keys():\n",
    "    print(midterm[student],'점 입니다.')\n",
    "else:\n",
    "    print('해당 학생은 없습니다')"
   ]
  },
  {
   "cell_type": "code",
   "execution_count": 43,
   "id": "a5b53b3c",
   "metadata": {},
   "outputs": [
    {
     "name": "stdout",
     "output_type": "stream",
     "text": [
      "하윤 82\n",
      "시우 76\n",
      "주원 94\n"
     ]
    }
   ],
   "source": [
    "# 중간고사 점수가 70점 이상은 학생은 누구?\n",
    "midterm = {'도윤':43,'하윤':82,'시우':76,'지유':61,'주원':94}\n",
    "\n",
    "for k,v in midterm.items():\n",
    "    if v>70:\n",
    "        print(k,v)"
   ]
  }
 ],
 "metadata": {
  "kernelspec": {
   "display_name": "Python 3 (ipykernel)",
   "language": "python",
   "name": "python3"
  },
  "language_info": {
   "codemirror_mode": {
    "name": "ipython",
    "version": 3
   },
   "file_extension": ".py",
   "mimetype": "text/x-python",
   "name": "python",
   "nbconvert_exporter": "python",
   "pygments_lexer": "ipython3",
   "version": "3.9.7"
  }
 },
 "nbformat": 4,
 "nbformat_minor": 5
}
