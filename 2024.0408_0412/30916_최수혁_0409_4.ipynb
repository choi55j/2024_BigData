{
 "cells": [
  {
   "cell_type": "markdown",
   "id": "1816d586",
   "metadata": {},
   "source": [
    "## 30916_최수혁_0409_4"
   ]
  },
  {
   "cell_type": "markdown",
   "id": "fef43244",
   "metadata": {},
   "source": [
    "### 조건문으로 간단한 프로그램 만들기"
   ]
  },
  {
   "cell_type": "code",
   "execution_count": 2,
   "id": "d08009df",
   "metadata": {
    "scrolled": true
   },
   "outputs": [
    {
     "name": "stdout",
     "output_type": "stream",
     "text": [
      "나이가 몇살이신 가요?? 19\n",
      "청소년이라 6000원 입니다!\n"
     ]
    }
   ],
   "source": [
    "# 목욕탕에 가면 미성년자는 6000원 성인 15000원\n",
    "# 나이를 입력 받아서 구분하는 프로그램을 만들어 보자\n",
    "\n",
    "age=int(input('나이가 몇살이신 가요?? '))\n",
    "\n",
    "if age<20:\n",
    "    print('청소년이라 6000원 입니다!')\n",
    "else:\n",
    "    print('성인이라 15000원 입니다!')"
   ]
  },
  {
   "cell_type": "code",
   "execution_count": 8,
   "id": "aa3bc6f7",
   "metadata": {},
   "outputs": [
    {
     "name": "stdout",
     "output_type": "stream",
     "text": [
      "나이를 얼마나 쳐 먹었니? 21\n",
      "성인은 15000원 입니다.\n",
      "금액을 투입해 주세여! 15000\n",
      "즐겁게 이용하세요 ^^\n"
     ]
    }
   ],
   "source": [
    "# 나이 구분\n",
    "# 금액 구분\n",
    "\n",
    "# 1단계\n",
    "age=int(input('나이를 얼마나 쳐 먹었니? '))\n",
    "\n",
    "if age<20:\n",
    "    print('미성년자는 6000원 입니다.')\n",
    "    price=6000 # age가 20 미만이면 price를 6000으로 지정\n",
    "else:\n",
    "    print('성인은 15000원 입니다.')\n",
    "    price=15000 # age가 20 초과이면 price를 15000으로 지정\n",
    "    \n",
    "# 2단계 투입금액을 입력받아 입장료와 비교 하기\n",
    "price_input = int(input('금액을 투입해 주세여! '))\n",
    "\n",
    "if price_input < price:\n",
    "    print(f'{price-price_input}원 더 내셔야 합니다.')\n",
    "elif price==price_input:\n",
    "    print('즐겁게 이용하세요 ^^')\n",
    "else:\n",
    "    print(f'{price_input-price}원 거슬러 드리겠습니다.')"
   ]
  },
  {
   "cell_type": "markdown",
   "id": "4d72ad02",
   "metadata": {},
   "source": [
    "```\n",
    "어떤 메뉴가 궁금하신가요?\n",
    "라면\n",
    "기본라면 : 3500원\n",
    "떡라면 : 4000원\n",
    "만두라면 : 4000원\n",
    "\n",
    "김밥\n",
    "야채김밥 : 3000원\n",
    "참치김밥 : 4000원\n",
    "꼬마김밥 : 2000원\n",
    "\n",
    "```"
   ]
  },
  {
   "cell_type": "code",
   "execution_count": 10,
   "id": "43b49181",
   "metadata": {},
   "outputs": [
    {
     "name": "stdout",
     "output_type": "stream",
     "text": [
      "무슨 메뉴가 궁금하니? 라면\n",
      "기본라면 : 3500원\n",
      "떡라면 : 4000원\n",
      "만두라면 : 4000원\n"
     ]
    }
   ],
   "source": [
    "menu=input('무슨 메뉴가 궁금하니? ')\n",
    "if menu=='라면':\n",
    "    print('기본라면 : 3500원')\n",
    "    print('떡라면 : 4000원')\n",
    "    print('만두라면 : 4000원')\n",
    "elif menu =='김밥':\n",
    "    print('야채김밥 : 3000원')\n",
    "    print('참치김밥 : 4000원')\n",
    "    print('꼬마김밥 : 2000원')\n",
    "else:\n",
    "    print('올바른 메뉴를 입력하세요')"
   ]
  },
  {
   "cell_type": "code",
   "execution_count": null,
   "id": "236124e5",
   "metadata": {},
   "outputs": [],
   "source": []
  }
 ],
 "metadata": {
  "kernelspec": {
   "display_name": "Python 3 (ipykernel)",
   "language": "python",
   "name": "python3"
  },
  "language_info": {
   "codemirror_mode": {
    "name": "ipython",
    "version": 3
   },
   "file_extension": ".py",
   "mimetype": "text/x-python",
   "name": "python",
   "nbconvert_exporter": "python",
   "pygments_lexer": "ipython3",
   "version": "3.9.7"
  }
 },
 "nbformat": 4,
 "nbformat_minor": 5
}
