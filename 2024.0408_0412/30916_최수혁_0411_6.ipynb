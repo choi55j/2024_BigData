{
 "cells": [
  {
   "cell_type": "markdown",
   "id": "36933db0",
   "metadata": {},
   "source": [
    "## 30916_최수혁_0411_6"
   ]
  },
  {
   "cell_type": "code",
   "execution_count": 12,
   "id": "4e1943a7",
   "metadata": {},
   "outputs": [
    {
     "name": "stdout",
     "output_type": "stream",
     "text": [
      "몇점 이신가요?? 100\n",
      "A\n"
     ]
    }
   ],
   "source": [
    "# 등급을 구분하는 프로그램\n",
    "# 80점 이상이면 A, 40점 이상이면 B, 나머지 C등급 출력\n",
    "# 0~100 사이 이외의 숫자는 \"잘못된 숫자를 입력했습니다\"\n",
    "\n",
    "test=int(input('몇점 이신가요?? '))\n",
    "if test<=100 and test>0:\n",
    "    if test>=80:\n",
    "        print('A')\n",
    "    elif test>=40:\n",
    "        print('B')\n",
    "    else:\n",
    "        print('C')\n",
    "else:\n",
    "    print('잘못된 점수 입니다')"
   ]
  },
  {
   "cell_type": "code",
   "execution_count": 19,
   "id": "bc292658",
   "metadata": {},
   "outputs": [
    {
     "name": "stdout",
     "output_type": "stream",
     "text": [
      "몇점 이신가요?? 100\n",
      "A\n"
     ]
    }
   ],
   "source": [
    "test=int(input('몇점 이신가요?? '))\n",
    "\n",
    "if test<0 or test>100:\n",
    "    print('잘못된 숫자를 입력했습니다')\n",
    "# 80점 이상 A등급 출력\n",
    "elif test >=80:\n",
    "    print('A')\n",
    "# 80점 이상 B등급 출력\n",
    "elif test >=40:\n",
    "    print('B')\n",
    "# 80점 이상 C등급 출력\n",
    "else:\n",
    "    print('C')"
   ]
  },
  {
   "cell_type": "code",
   "execution_count": 18,
   "id": "f0fb6274",
   "metadata": {},
   "outputs": [
    {
     "name": "stdout",
     "output_type": "stream",
     "text": [
      "몇점 이신가요?? 20\n",
      "C\n"
     ]
    }
   ],
   "source": [
    "test=int(input('몇점 이신가요?? '))\n",
    "\n",
    "if test<0 or test>100:\n",
    "    print('잘못된 숫자를 입력했습니다')\n",
    "else:\n",
    "    if test >=80:\n",
    "        print('A')\n",
    "    elif test >=40:\n",
    "        print('B')\n",
    "    else:\n",
    "        print('C')"
   ]
  },
  {
   "cell_type": "markdown",
   "id": "890ac2be",
   "metadata": {},
   "source": [
    "## 5.1 범위 내에서 반복하기:for\n",
    "### 5.1.1 반복문이란"
   ]
  },
  {
   "cell_type": "code",
   "execution_count": 20,
   "id": "4ac2224f",
   "metadata": {},
   "outputs": [
    {
     "name": "stdout",
     "output_type": "stream",
     "text": [
      "안녕하세요\n",
      "안녕하세요\n",
      "안녕하세요\n",
      "안녕하세요\n",
      "안녕하세요\n"
     ]
    }
   ],
   "source": [
    "for a in [1,2,3,4,5]:\n",
    "    print('안녕하세요')"
   ]
  },
  {
   "cell_type": "code",
   "execution_count": 21,
   "id": "927e142b",
   "metadata": {},
   "outputs": [
    {
     "name": "stdout",
     "output_type": "stream",
     "text": [
      "1 을(를) 저장 중입니다\n",
      "2 을(를) 저장 중입니다\n",
      "3 을(를) 저장 중입니다\n",
      "4 을(를) 저장 중입니다\n",
      "5 을(를) 저장 중입니다\n"
     ]
    }
   ],
   "source": [
    "for a in [1,2,3,4,5]:\n",
    "    print(a,'을(를) 저장 중입니다')"
   ]
  },
  {
   "cell_type": "code",
   "execution_count": 23,
   "id": "ff60bfc1",
   "metadata": {},
   "outputs": [
    {
     "name": "stdout",
     "output_type": "stream",
     "text": [
      "9 을(를) 저장 중입니다\n",
      "8 을(를) 저장 중입니다\n",
      "7 을(를) 저장 중입니다\n",
      "6 을(를) 저장 중입니다\n",
      "5 을(를) 저장 중입니다\n",
      "4 을(를) 저장 중입니다\n",
      "3 을(를) 저장 중입니다\n",
      "2 을(를) 저장 중입니다\n",
      "1 을(를) 저장 중입니다\n",
      "0 을(를) 저장 중입니다\n"
     ]
    }
   ],
   "source": [
    "for a in [9,8,7,6 ,5,4,3,2,1,0]:\n",
    "    print(a,'을(를) 저장 중입니다')"
   ]
  },
  {
   "cell_type": "markdown",
   "id": "79ee200b",
   "metadata": {},
   "source": [
    "### 5.12 연속된  숫자를 range()로 간단하게 표현하기"
   ]
  },
  {
   "cell_type": "code",
   "execution_count": 27,
   "id": "dd0d020a",
   "metadata": {
    "scrolled": false
   },
   "outputs": [
    {
     "name": "stdout",
     "output_type": "stream",
     "text": [
      "1 청소를 빼먹지 않겠습니다\n",
      "2 청소를 빼먹지 않겠습니다\n",
      "3 청소를 빼먹지 않겠습니다\n",
      "4 청소를 빼먹지 않겠습니다\n",
      "5 청소를 빼먹지 않겠습니다\n",
      "6 청소를 빼먹지 않겠습니다\n",
      "7 청소를 빼먹지 않겠습니다\n",
      "8 청소를 빼먹지 않겠습니다\n",
      "9 청소를 빼먹지 않겠습니다\n",
      "10 청소를 빼먹지 않겠습니다\n",
      "11 청소를 빼먹지 않겠습니다\n",
      "12 청소를 빼먹지 않겠습니다\n",
      "13 청소를 빼먹지 않겠습니다\n",
      "14 청소를 빼먹지 않겠습니다\n",
      "15 청소를 빼먹지 않겠습니다\n",
      "16 청소를 빼먹지 않겠습니다\n",
      "17 청소를 빼먹지 않겠습니다\n",
      "18 청소를 빼먹지 않겠습니다\n",
      "19 청소를 빼먹지 않겠습니다\n",
      "20 청소를 빼먹지 않겠습니다\n"
     ]
    }
   ],
   "source": [
    "for i in range(1,21):\n",
    "    print(i,'청소를 빼먹지 않겠습니다')"
   ]
  },
  {
   "cell_type": "code",
   "execution_count": 28,
   "id": "48562aeb",
   "metadata": {},
   "outputs": [
    {
     "name": "stdout",
     "output_type": "stream",
     "text": [
      "1\n",
      "3\n",
      "5\n",
      "7\n",
      "9\n",
      "11\n",
      "13\n",
      "15\n",
      "17\n",
      "19\n"
     ]
    }
   ],
   "source": [
    "for i in range(1,20,2):\n",
    "    print(i)"
   ]
  },
  {
   "cell_type": "code",
   "execution_count": 31,
   "id": "3fb8fdde",
   "metadata": {},
   "outputs": [
    {
     "name": "stdout",
     "output_type": "stream",
     "text": [
      "1275\n"
     ]
    }
   ],
   "source": [
    "r=0\n",
    "\n",
    "for i in range(1,51):\n",
    "    r+=i\n",
    "    \n",
    "print(r)"
   ]
  }
 ],
 "metadata": {
  "kernelspec": {
   "display_name": "Python 3 (ipykernel)",
   "language": "python",
   "name": "python3"
  },
  "language_info": {
   "codemirror_mode": {
    "name": "ipython",
    "version": 3
   },
   "file_extension": ".py",
   "mimetype": "text/x-python",
   "name": "python",
   "nbconvert_exporter": "python",
   "pygments_lexer": "ipython3",
   "version": "3.9.7"
  }
 },
 "nbformat": 4,
 "nbformat_minor": 5
}
