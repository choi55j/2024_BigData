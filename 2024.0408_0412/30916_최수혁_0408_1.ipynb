{
 "cells": [
  {
   "cell_type": "markdown",
   "id": "3946ad9e",
   "metadata": {},
   "source": [
    "## 30916_최수혁_0408_1"
   ]
  },
  {
   "cell_type": "markdown",
   "id": "d96a9cba",
   "metadata": {},
   "source": [
    "### 선택구조 조건이 하나 일때\n",
    "- if문"
   ]
  },
  {
   "cell_type": "code",
   "execution_count": 7,
   "id": "a1a32f5a",
   "metadata": {},
   "outputs": [
    {
     "name": "stdout",
     "output_type": "stream",
     "text": [
      "청소년은 주류를 구매할 수 없습니다\n"
     ]
    }
   ],
   "source": [
    "age=19\n",
    "\n",
    "# 청소년은 주류를 구매할 수 없습니다. 출력\n",
    "if age<20:\n",
    "    print('청소년은 주류를 구매할 수 없습니다')\n",
    "else:\n",
    "    print('주류를 구매할 수 있습니다')"
   ]
  },
  {
   "cell_type": "code",
   "execution_count": 14,
   "id": "893b17dc",
   "metadata": {},
   "outputs": [
    {
     "name": "stdout",
     "output_type": "stream",
     "text": [
      "나이가 어떻게 되세요? 19\n",
      "청소년은 주류를 구매할 수 없습니다\n",
      "1년 후에 구매 가능합니다\n"
     ]
    }
   ],
   "source": [
    "age=int(input('나이가 어떻게 되세요? '))\n",
    "if age<20:\n",
    "    print('청소년은 주류를 구매할 수 없습니다')\n",
    "print(f'{20-age}년 후에 구매 가능합니다')"
   ]
  },
  {
   "cell_type": "markdown",
   "id": "1cddc5a5",
   "metadata": {},
   "source": [
    "### 5만원 이하면 배송비 2500원이 추가 됩니다."
   ]
  },
  {
   "cell_type": "code",
   "execution_count": 27,
   "id": "f2db7e55",
   "metadata": {},
   "outputs": [
    {
     "name": "stdout",
     "output_type": "stream",
     "text": [
      "구매 금액은? 12345\n",
      "배송비 2500원이 추가 되서14845원 입니다!\n"
     ]
    }
   ],
   "source": [
    "price = int(input('구매 금액은? '))\n",
    "\n",
    "if price>50000:\n",
    "    print('배송비가 없어요!')\n",
    "else:\n",
    "    print(f'배송비 2500원이 추가 되서{2500+price}원 입니다!')"
   ]
  },
  {
   "cell_type": "code",
   "execution_count": 43,
   "id": "9156bd41",
   "metadata": {},
   "outputs": [
    {
     "name": "stdout",
     "output_type": "stream",
     "text": [
      "몇일 인가요? 112313123132\n",
      "짝수 차량만 통행 가능 합니다\n"
     ]
    }
   ],
   "source": [
    "day = int(input('몇일 인가요? '))\n",
    "\n",
    "if day%2==0:\n",
    "    print('짝수 차량만 통행 가능 합니다')\n",
    "else:\n",
    "    print(f'홀수 차량만 통행 가능 합니다')"
   ]
  },
  {
   "cell_type": "code",
   "execution_count": null,
   "id": "bb243dd7",
   "metadata": {},
   "outputs": [],
   "source": []
  }
 ],
 "metadata": {
  "kernelspec": {
   "display_name": "Python 3 (ipykernel)",
   "language": "python",
   "name": "python3"
  },
  "language_info": {
   "codemirror_mode": {
    "name": "ipython",
    "version": 3
   },
   "file_extension": ".py",
   "mimetype": "text/x-python",
   "name": "python",
   "nbconvert_exporter": "python",
   "pygments_lexer": "ipython3",
   "version": "3.9.7"
  }
 },
 "nbformat": 4,
 "nbformat_minor": 5
}
