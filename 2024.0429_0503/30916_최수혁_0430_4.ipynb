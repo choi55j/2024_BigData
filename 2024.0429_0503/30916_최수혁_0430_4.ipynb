{
 "cells": [
  {
   "cell_type": "markdown",
   "id": "b17a263f",
   "metadata": {},
   "source": [
    "# 30916_최수혁_0430_4|"
   ]
  },
  {
   "cell_type": "code",
   "execution_count": 2,
   "id": "74197632",
   "metadata": {},
   "outputs": [
    {
     "name": "stdout",
     "output_type": "stream",
     "text": [
      "연도 :  2024\n",
      "월 :  04\n",
      "일 :  30\n"
     ]
    }
   ],
   "source": [
    "data = '2024-04-30'\n",
    "\n",
    "print('연도 : ',data[:4])\n",
    "print('월 : ',data[5:7])\n",
    "print('일 : ',data[-2:])"
   ]
  },
  {
   "cell_type": "code",
   "execution_count": 4,
   "id": "188d2f60",
   "metadata": {},
   "outputs": [
    {
     "name": "stdout",
     "output_type": "stream",
     "text": [
      "['준원이', '바보', '바보']\n",
      "준원이\n",
      "바보\n",
      "바보\n"
     ]
    }
   ],
   "source": [
    "# 공부만을 문장을 나누는 split\n",
    "a = \"준원이 바보 바보\"\n",
    "print(a.split()) #list\n",
    "print(a.split()[0])\n",
    "print(a.split()[1])\n",
    "print(a.split()[2])"
   ]
  },
  {
   "cell_type": "code",
   "execution_count": 8,
   "id": "99d42fca",
   "metadata": {},
   "outputs": [
    {
     "name": "stdout",
     "output_type": "stream",
     "text": [
      "['2024', '04', '30']\n",
      "2024\n",
      "04\n",
      "30\n"
     ]
    }
   ],
   "source": [
    "# - (하이픈)을 기준으로 split\n",
    "data = '2024-04-30'\n",
    "\n",
    "print(data.split('-'))\n",
    "print(data.split('-')[0])\n",
    "print(data.split('-')[1])\n",
    "print(data.split('-')[2])"
   ]
  },
  {
   "cell_type": "code",
   "execution_count": 10,
   "id": "47a2b3b2",
   "metadata": {},
   "outputs": [
    {
     "name": "stdout",
     "output_type": "stream",
     "text": [
      "정렬 후 :  ['감자칩', '된장찌개', '바나나', '스테이크', '치킨', '파스트', '피자']\n"
     ]
    }
   ],
   "source": [
    "# 리스트 원소 정렬하기 .sort(reverse=True) = 거꾸로 정렬\n",
    "food = ['피자','치킨','스테이크','된장찌개','바나나','파스트','감자칩']\n",
    "food.sort()\n",
    "print('정렬 후 : ',food)"
   ]
  },
  {
   "cell_type": "code",
   "execution_count": 14,
   "id": "b197d383",
   "metadata": {},
   "outputs": [
    {
     "name": "stdout",
     "output_type": "stream",
     "text": [
      "역순 정렬 후 :  ['피자', '파스트', '치킨', '스테이크', '바나나', '된장찌개', '감자칩']\n"
     ]
    }
   ],
   "source": [
    "food = ['피자','치킨','스테이크','된장찌개','바나나','파스트','감자칩']\n",
    "food.sort(reverse=True)\n",
    "print('역순 정렬 후 : ',food)"
   ]
  },
  {
   "cell_type": "code",
   "execution_count": 17,
   "id": "4d6ca894",
   "metadata": {},
   "outputs": [
    {
     "name": "stdout",
     "output_type": "stream",
     "text": [
      "[56, 53]\n"
     ]
    }
   ],
   "source": [
    "# 문제 역순으로 정렬하고 첫번째, 두번째 출력해 보기\n",
    "spending_6mon = [25,36,8,53,24,56]\n",
    "\n",
    "spending_6mon.sort(reverse=True)\n",
    "print(spending_6mon[:2])"
   ]
  },
  {
   "cell_type": "code",
   "execution_count": 22,
   "id": "e88ddc91",
   "metadata": {},
   "outputs": [
    {
     "name": "stdout",
     "output_type": "stream",
     "text": [
      "최댓값 :  56\n",
      "최소값 :  8\n"
     ]
    }
   ],
   "source": [
    "# 리스트 원소 중 최댓값, 최소값 참기 max, min\n",
    "spending_6mon = [25,36,8,53,24,56]\n",
    "print('최댓값 : ',max(spending_6mon))\n",
    "print('최소값 : ',min(spending_6mon))"
   ]
  },
  {
   "cell_type": "code",
   "execution_count": 21,
   "id": "90d788c6",
   "metadata": {},
   "outputs": [
    {
     "name": "stdout",
     "output_type": "stream",
     "text": [
      "전체의 합은 :  202\n"
     ]
    }
   ],
   "source": [
    "# 리스트 원소 전체의 합은 : sum\n",
    "spending_6mon = [25,36,8,53,24,56]\n",
    "print('전체의 합은 : ', sum(spending_6mon))"
   ]
  },
  {
   "cell_type": "code",
   "execution_count": 26,
   "id": "53ae46ca",
   "metadata": {},
   "outputs": [
    {
     "name": "stdout",
     "output_type": "stream",
     "text": [
      "24의 위치는 :  5\n"
     ]
    }
   ],
   "source": [
    "# 리스트안의 원소의 위치를 찾기 index\n",
    "spending_6mon = [25,36,8,53,24,56]\n",
    "print('24의 위치는 : ',spending_6mon.index(24)+1)"
   ]
  }
 ],
 "metadata": {
  "kernelspec": {
   "display_name": "Python 3 (ipykernel)",
   "language": "python",
   "name": "python3"
  },
  "language_info": {
   "codemirror_mode": {
    "name": "ipython",
    "version": 3
   },
   "file_extension": ".py",
   "mimetype": "text/x-python",
   "name": "python",
   "nbconvert_exporter": "python",
   "pygments_lexer": "ipython3",
   "version": "3.9.7"
  }
 },
 "nbformat": 4,
 "nbformat_minor": 5
}
