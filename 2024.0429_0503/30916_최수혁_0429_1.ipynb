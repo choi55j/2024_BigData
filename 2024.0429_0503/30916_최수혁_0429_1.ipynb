{
 "cells": [
  {
   "cell_type": "markdown",
   "id": "223017ff",
   "metadata": {},
   "source": [
    "# 30916_최수혁_0429_1"
   ]
  },
  {
   "cell_type": "code",
   "execution_count": 1,
   "id": "dae2c800",
   "metadata": {},
   "outputs": [
    {
     "data": {
      "text/plain": [
       "[25, 36, 8, 53, 24, 56]"
      ]
     },
     "execution_count": 1,
     "metadata": {},
     "output_type": "execute_result"
    }
   ],
   "source": [
    "spending = [25,36,8,53,24,56]\n",
    "spending"
   ]
  },
  {
   "cell_type": "code",
   "execution_count": 2,
   "id": "f63aa324",
   "metadata": {},
   "outputs": [
    {
     "data": {
      "text/plain": [
       "list"
      ]
     },
     "execution_count": 2,
     "metadata": {},
     "output_type": "execute_result"
    }
   ],
   "source": [
    "type(spending)"
   ]
  },
  {
   "cell_type": "code",
   "execution_count": 4,
   "id": "05e1441f",
   "metadata": {},
   "outputs": [
    {
     "name": "stdout",
     "output_type": "stream",
     "text": [
      "<class 'list'> [25, 36, 8, 53, 24, 56, 38, 79, 94, 20, 40, 25]\n",
      "<class 'list'> [25, 36, 8, 53, 24, 56]\n"
     ]
    }
   ],
   "source": [
    "spending_year = [25,36,8,53,24,56,38,79,94,20,40,25]\n",
    "print(type(spending_year), spending_year)\n",
    "\n",
    "spending_6mon = [25,36,8,53,24,56]\n",
    "print(type(spending_6mon), spending_6mon)"
   ]
  },
  {
   "cell_type": "code",
   "execution_count": 15,
   "id": "8feea516",
   "metadata": {},
   "outputs": [
    {
     "name": "stdout",
     "output_type": "stream",
     "text": [
      "좋아하는 음식의 개수는  6\n",
      "좋아하는 음식 순위  ['피자', '치킨', '떡볶이', '스테이크', '딸기', '파스타']\n",
      "가장 좋아하는 음식은??  피자\n",
      "가장 싫어하는 음식은??  파스타\n",
      "피자\n",
      "치킨\n",
      "떡볶이\n",
      "스테이크\n",
      "딸기\n",
      "파스타\n"
     ]
    }
   ],
   "source": [
    "food = ['피자','치킨','떡볶이','스테이크','딸기','파스타']\n",
    "print('좋아하는 음식의 개수는 ',len(food)) # 개수 len\n",
    "print('좋아하는 음식 순위 ', food)\n",
    "print('가장 좋아하는 음식은?? ',food[0])\n",
    "print('가장 싫어하는 음식은?? ',food[-1]) # 마지막\n",
    "for i in food:\n",
    "    print(i)"
   ]
  },
  {
   "cell_type": "code",
   "execution_count": 25,
   "id": "9faa256a",
   "metadata": {},
   "outputs": [
    {
     "name": "stdout",
     "output_type": "stream",
     "text": [
      "1등은 피자\n",
      "2등은 치킨\n",
      "3등은 떡볶이\n",
      "4등은 스테이크\n",
      "5등은 딸기\n",
      "6등은 파스타\n",
      "7등은 라면\n",
      "8등은 햄버거\n"
     ]
    }
   ],
   "source": [
    "food = ['피자','치킨','떡볶이','스테이크','딸기','파스타','라면','햄버거']\n",
    "\n",
    "for i in range(len(food)):\n",
    "    print(f'{i+1}등은 {food[i]}')"
   ]
  },
  {
   "cell_type": "code",
   "execution_count": 29,
   "id": "b5f4ab65",
   "metadata": {},
   "outputs": [
    {
     "name": "stdout",
     "output_type": "stream",
     "text": [
      "추가할 음식을 입력하세요 : 돈가스\n"
     ]
    }
   ],
   "source": [
    "# food에 감자칩을 추가해주라\n",
    "food.append('감자칩')\n",
    "a=input('추가할 음식을 입력하세요 : ')\n",
    "food.append(a)\n",
    "food"
   ]
  },
  {
   "cell_type": "code",
   "execution_count": 32,
   "id": "57a7f580",
   "metadata": {},
   "outputs": [
    {
     "name": "stdout",
     "output_type": "stream",
     "text": [
      "해야할 일을 차례대로 입력해주세여 \n",
      "밥 먹기\n",
      "씻기\n",
      "화장실 가기\n",
      "게임 하기\n",
      "유튜브 보기\n",
      "['밥 먹기', '씻기', '화장실 가기', '게임 하기', '유튜브 보기']\n"
     ]
    }
   ],
   "source": [
    "to_do=[]\n",
    "print('해야할 일을 차례대로 입력해주세여 ')\n",
    "\n",
    "for i in range(5):\n",
    "    to_do.append(input())\n",
    "print(to_do)"
   ]
  },
  {
   "cell_type": "code",
   "execution_count": 33,
   "id": "34b0cf6c",
   "metadata": {},
   "outputs": [
    {
     "name": "stdout",
     "output_type": "stream",
     "text": [
      "['밥 먹기', '씻기', '게임 하기', '유튜브 보기']\n"
     ]
    }
   ],
   "source": [
    "# 리스트에서 지우는 명령어 remove\n",
    "to_do.remove('화장실 가기')\n",
    "print(to_do)"
   ]
  },
  {
   "cell_type": "code",
   "execution_count": 34,
   "id": "9541ed58",
   "metadata": {},
   "outputs": [
    {
     "name": "stdout",
     "output_type": "stream",
     "text": [
      "지우고 싶은 목록은?? 씻기\n",
      "['밥 먹기', '게임 하기', '유튜브 보기']\n"
     ]
    }
   ],
   "source": [
    "to_do.remove(input('지우고 싶은 목록은?? '))\n",
    "print(to_do)"
   ]
  },
  {
   "cell_type": "code",
   "execution_count": 43,
   "id": "70bceaee",
   "metadata": {},
   "outputs": [
    {
     "name": "stdout",
     "output_type": "stream",
     "text": [
      "연도 :  2024\n",
      "월 :  04\n",
      "일 :  29\n"
     ]
    }
   ],
   "source": [
    "# 인덱스 슬라이싱\n",
    "data = '2024-04-29'\n",
    "print('연도 : ',data[0:4])\n",
    "print('월 : ',data[5:7])\n",
    "print('일 : ',data[-2:])"
   ]
  },
  {
   "cell_type": "code",
   "execution_count": null,
   "id": "b704c5b0",
   "metadata": {},
   "outputs": [],
   "source": []
  }
 ],
 "metadata": {
  "kernelspec": {
   "display_name": "Python 3 (ipykernel)",
   "language": "python",
   "name": "python3"
  },
  "language_info": {
   "codemirror_mode": {
    "name": "ipython",
    "version": 3
   },
   "file_extension": ".py",
   "mimetype": "text/x-python",
   "name": "python",
   "nbconvert_exporter": "python",
   "pygments_lexer": "ipython3",
   "version": "3.9.7"
  }
 },
 "nbformat": 4,
 "nbformat_minor": 5
}
