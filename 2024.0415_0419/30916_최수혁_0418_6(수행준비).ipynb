{
 "cells": [
  {
   "cell_type": "markdown",
   "id": "1d46b3d5",
   "metadata": {},
   "source": [
    "## 30916_최수혁_0418_6"
   ]
  },
  {
   "cell_type": "markdown",
   "id": "04113f61",
   "metadata": {},
   "source": [
    "# 예상 문제 3"
   ]
  },
  {
   "cell_type": "code",
   "execution_count": 3,
   "id": "2fb50040",
   "metadata": {},
   "outputs": [
    {
     "name": "stdout",
     "output_type": "stream",
     "text": [
      "월 별로 수입액을 입력시켜 주세요! \n",
      "1 월의 수입액을 입력시켜 주세요 \n",
      "10\n",
      "2 월의 수입액을 입력시켜 주세요 \n",
      "10\n",
      "3 월의 수입액을 입력시켜 주세요 \n",
      "10\n",
      "4 월의 수입액을 입력시켜 주세요 \n",
      "10\n",
      "5 월의 수입액을 입력시켜 주세요 \n",
      "10\n",
      "6 월의 수입액을 입력시켜 주세요 \n",
      "10\n",
      "상반기 월별 수입액 입니다 \n",
      "상반기 월 수입액의 평균은 60 만원 입니다\n",
      "상반기 월 수입략의 평균은 10.0 만원 입니다\n"
     ]
    }
   ],
   "source": [
    "money = []\n",
    "print('월 별로 수입액을 입력시켜 주세요! ')\n",
    "for j in range(0,6):\n",
    "    print((j+1),'월의 수입액을 입력시켜 주세요 ')\n",
    "    money.append(int(input('')))\n",
    "    \n",
    "sum = 0\n",
    "i = 0\n",
    "print('상반기 월별 수입액 입니다 ')\n",
    "while i<6:\n",
    "    sum = money[i] + sum\n",
    "    i = i+1\n",
    "avg = sum/6\n",
    "print('상반기 월 수입액의 평균은',sum,'만원 입니다')\n",
    "print('상반기 월 수입략의 평균은',avg,'만원 입니다')"
   ]
  },
  {
   "cell_type": "code",
   "execution_count": 4,
   "id": "92a6c30a",
   "metadata": {},
   "outputs": [
    {
     "name": "stdout",
     "output_type": "stream",
     "text": [
      "월 별로 수입액을 입력시켜 주세요! \n",
      "1 월의 수입액을 입력시켜 주세요 \n",
      "10\n",
      "2 월의 수입액을 입력시켜 주세요 \n",
      "10\n",
      "3 월의 수입액을 입력시켜 주세요 \n",
      "10\n",
      "4 월의 수입액을 입력시켜 주세요 \n",
      "10\n",
      "5 월의 수입액을 입력시켜 주세요 \n",
      "10\n",
      "6 월의 수입액을 입력시켜 주세요 \n",
      "10\n",
      "상반기 월별 수입액 입니다 \n",
      "상반기 월 수입액의 평균은60만원 입니다\n",
      "상반기 월 수입략의 평균은10.0만원 입니다\n"
     ]
    }
   ],
   "source": [
    "money = [] # 월별 수입을 저장할 리스트를 초기화합니다.\n",
    "print('월 별로 수입액을 입력시켜 주세요! ')\n",
    "for j in range(0,6):\n",
    "    print((j+1),'월의 수입액을 입력시켜 주세요 ')\n",
    "    money.append(int(input(''))) # 사용자로부터 수입을 입력 받아 리스트에 추가\n",
    "    \n",
    "sum = 0 # 총 수입을 저장할 변수를 초기화\n",
    "i = 0\n",
    "print('상반기 월별 수입액 입니다 ')\n",
    "while i<6: # i가 6보다 클때까지 반복\n",
    "    sum = money[i] + sum # 리스트에 각 항목을 더해 총 수입을 계산\n",
    "    i = i+1\n",
    "avg = sum/6 # 평균을 계산 합니다\n",
    "print(f'상반기 월 수입액의 총액은은{sum}만원 입니다')\n",
    "print(f'상반기 월 수입액의 평균은{avg}만원 입니다')"
   ]
  },
  {
   "cell_type": "markdown",
   "id": "3a6265ec",
   "metadata": {},
   "source": [
    "# 예상문제 4 : 무작위로 입력된 점수 리스트에서 70점 이상인 번호와 값 출력하기"
   ]
  },
  {
   "cell_type": "code",
   "execution_count": 16,
   "id": "8e1be425",
   "metadata": {},
   "outputs": [
    {
     "name": "stdout",
     "output_type": "stream",
     "text": [
      "리스트에 점수가 70점 이상인 번호와 값 출력하기\n",
      "1 번 70\n",
      "5 번 75\n",
      "6 번 98\n",
      "6 번 98\n",
      "10 번 81\n",
      "13 번 83\n",
      "20 번 88\n",
      "21 번 93\n"
     ]
    }
   ],
   "source": [
    "import random # 랜덤 라이브러리 불러오기\n",
    "score = []\n",
    "for i in range(0,25): # 0~25까지의 번호에\n",
    "    score.append(random.randint(0,100)) # 0~100까지의 숫자를 빈 리스트에 추가\n",
    "print('리스트에 점수가 70점 이상인 번호와 값 출력하기')\n",
    "for s in score: # 리스트에 추가된 숫자를 s 에 넣어 반복한다\n",
    "    if s>=70: # 70점 이상인 번호를 골라서\n",
    "        print(score.index(s)+1,'번',s)# index 값이 0부터 시작해 1 추가, index = 주소"
   ]
  },
  {
   "cell_type": "markdown",
   "id": "85f2459b",
   "metadata": {},
   "source": [
    "# 예상문제 5 : 지하철 게임 만들기"
   ]
  },
  {
   "cell_type": "code",
   "execution_count": 26,
   "id": "70c08f07",
   "metadata": {},
   "outputs": [
    {
     "name": "stdout",
     "output_type": "stream",
     "text": [
      "지하철~♪♬지하철~♪♬지하철~♪♬지하철~♪♬\n",
      "몇 호선?팔호선\n",
      "모란\n",
      "수진\n",
      "신흥\n",
      "단대오거리\n",
      "남한산성입고\n",
      "땡! 해당 역은 팔호선 이 아닙니다!\n",
      "벌칙 당첨\n"
     ]
    }
   ],
   "source": [
    "신분당선 = ['광교','광교중앙','상현','성복','수지구청','동천','미금','정자',\n",
    "       '판교','청계산입구','양재시민의숲','양재','강남']\n",
    "팔호선 = ['모란', '수진', '신흥', '단대오거리', '남한산성입구', '산성', '남위례', '복정', '장지', '문정', '가락시장', '송파', '석촌', '잠실', '몽촌토성', '강동구청', '천호', '암사']\n",
    "print('지하철~♪♬'*4)\n",
    "호선 = input('몇 호선?')\n",
    "for i in range(10): # 10돌린다\n",
    "    if 호선 =='신분당선': # 호선이 신분당선일때\n",
    "        입력 = input()\n",
    "        if 입력 not in 신분당선: # 신분당선 리스트에 없는 것이 입력되면 print\n",
    "            print('땡! 해당 역은',호선,'이 아닙니다!')\n",
    "            print('벌칙 당첨')\n",
    "            break # 잘 못 입력시 멈춤\n",
    "    elif 호선=='팔호선': #호선이 팔호선일때\n",
    "        입력 = input()\n",
    "        if 입력 not in 팔호선: # 입력 받은것이 팔호선 리스트에 없을때 print\n",
    "            print('땡! 해당 역은',호선,'이 아닙니다!')\n",
    "            print('벌칙 당첨')\n",
    "            break # 잘 못 입력시 멈춤"
   ]
  },
  {
   "cell_type": "code",
   "execution_count": null,
   "id": "eb0e43fb",
   "metadata": {},
   "outputs": [],
   "source": []
  }
 ],
 "metadata": {
  "kernelspec": {
   "display_name": "Python 3 (ipykernel)",
   "language": "python",
   "name": "python3"
  },
  "language_info": {
   "codemirror_mode": {
    "name": "ipython",
    "version": 3
   },
   "file_extension": ".py",
   "mimetype": "text/x-python",
   "name": "python",
   "nbconvert_exporter": "python",
   "pygments_lexer": "ipython3",
   "version": "3.9.7"
  }
 },
 "nbformat": 4,
 "nbformat_minor": 5
}
