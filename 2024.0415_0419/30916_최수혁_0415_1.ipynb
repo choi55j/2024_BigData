{
 "cells": [
  {
   "cell_type": "markdown",
   "id": "ac2f149d",
   "metadata": {},
   "source": [
    "## 30916_최수혁_0415_1"
   ]
  },
  {
   "cell_type": "code",
   "execution_count": 8,
   "id": "96db87d6",
   "metadata": {},
   "outputs": [
    {
     "name": "stdout",
     "output_type": "stream",
     "text": [
      "6275\n"
     ]
    }
   ],
   "source": [
    "## 반복문을 이용하여 101부터 150까지 합을 구하는 프로그램 작성\n",
    "# 결과용 변수 만들고 초기화\n",
    "sum=0\n",
    "\n",
    "for i in range(101,151):\n",
    "    sum+=i\n",
    "    \n",
    "print(sum)"
   ]
  },
  {
   "cell_type": "code",
   "execution_count": 12,
   "id": "9bbbf756",
   "metadata": {},
   "outputs": [
    {
     "name": "stdout",
     "output_type": "stream",
     "text": [
      "3628800\n"
     ]
    }
   ],
   "source": [
    "# 1부터 10까지 곱하는 프로그램 작성\n",
    "\n",
    "sum=1\n",
    "\n",
    "for i in range(1,11):\n",
    "    sum*=i\n",
    "    \n",
    "print(sum)"
   ]
  },
  {
   "cell_type": "code",
   "execution_count": 19,
   "id": "52b82d52",
   "metadata": {},
   "outputs": [
    {
     "name": "stdout",
     "output_type": "stream",
     "text": [
      "몇 단을 외울까요? 20\n",
      "20 X 1 = 20\n",
      "20 X 2 = 40\n",
      "20 X 3 = 60\n",
      "20 X 4 = 80\n",
      "20 X 5 = 100\n",
      "20 X 6 = 120\n",
      "20 X 7 = 140\n",
      "20 X 8 = 160\n",
      "20 X 9 = 180\n"
     ]
    }
   ],
   "source": [
    "# 구구단 출력하기\n",
    "# 입력값 설계\n",
    "num=int(input('몇 단을 외울까요? '))\n",
    "# 출력값 설계\n",
    "\n",
    "for i in range(1,10):\n",
    "    print(f'{num} X {i} = {num*i}')"
   ]
  },
  {
   "cell_type": "code",
   "execution_count": 55,
   "id": "3a4a3ce8",
   "metadata": {},
   "outputs": [
    {
     "name": "stdout",
     "output_type": "stream",
     "text": [
      "0.7998708189737278\n"
     ]
    }
   ],
   "source": [
    "# random 임의의 숫자\n",
    "\n",
    "#라이브러리 libary 불러오기\n",
    "import random\n",
    "\n",
    "print(random.random())"
   ]
  },
  {
   "cell_type": "code",
   "execution_count": 109,
   "id": "0cbcb691",
   "metadata": {},
   "outputs": [
    {
     "name": "stdout",
     "output_type": "stream",
     "text": [
      "9\n"
     ]
    }
   ],
   "source": [
    "import random\n",
    "# 램덤 범위를 지정한다\n",
    "print(random.randrange(1,10,2))"
   ]
  },
  {
   "cell_type": "code",
   "execution_count": 111,
   "id": "3e06f264",
   "metadata": {},
   "outputs": [
    {
     "name": "stdout",
     "output_type": "stream",
     "text": [
      "9\n"
     ]
    }
   ],
   "source": [
    "import random\n",
    "# 램덤 범위를 지정한다, 정수를 가지고 온다\n",
    "print(random.randint(1,10))"
   ]
  },
  {
   "cell_type": "code",
   "execution_count": 112,
   "id": "8777c46e",
   "metadata": {},
   "outputs": [
    {
     "name": "stdout",
     "output_type": "stream",
     "text": [
      "3\n",
      "4\n",
      "7\n",
      "1\n",
      "7\n",
      "7\n",
      "2\n",
      "7\n",
      "7\n",
      "8\n"
     ]
    }
   ],
   "source": [
    "import random\n",
    "for i in range(10):\n",
    "    print(random.randint(0,10))"
   ]
  },
  {
   "cell_type": "code",
   "execution_count": 115,
   "id": "400e5fb4",
   "metadata": {},
   "outputs": [
    {
     "name": "stdout",
     "output_type": "stream",
     "text": [
      "구구단을 외자~~~구구단을 외자~~~\n",
      "5X1 은? 5\n",
      "9X6 은? 54\n",
      "7X9 은? 63\n",
      "3X8 은? 24\n",
      "9X4 은? 36\n",
      "3X1 은? 3\n",
      "4X8 은? 32\n",
      "6X6 은? 36\n",
      "5X1 은? 5\n",
      "8X2 은? 16\n"
     ]
    }
   ],
   "source": [
    "# 구구단 외기 게임 1\n",
    "import random\n",
    "\n",
    "print('구구단을 외자~~~'*2)\n",
    "\n",
    "for i in range(10):\n",
    "    a=random.randint(2,9)\n",
    "    b=random.randint(1,9)\n",
    "    print(f'{a}X{b} 은? {a*b}')"
   ]
  },
  {
   "cell_type": "code",
   "execution_count": 116,
   "id": "3028075d",
   "metadata": {},
   "outputs": [
    {
     "name": "stdout",
     "output_type": "stream",
     "text": [
      "구구단을 외자~~~구구단을 외자~~~\n",
      "5X3?15\n",
      "4X3?12\n",
      "4X6?25\n",
      "2X4?8\n",
      "7X3?21\n",
      "8X6?48\n",
      "9X8?72\n",
      "5X4?20\n",
      "2X3?6\n",
      "2X5?10\n"
     ]
    }
   ],
   "source": [
    "# 구구단 외기 게임 2 - 정답을 입력받아 보기\n",
    "import random\n",
    "\n",
    "print('구구단을 외자~~~'*2)\n",
    "\n",
    "for i in range(10):\n",
    "    a=random.randint(2,9)\n",
    "    b=random.randint(1,9)\n",
    "    question= str(a)+ 'X' + str(b) + '? '\n",
    "    input(question)"
   ]
  },
  {
   "cell_type": "code",
   "execution_count": 119,
   "id": "dae061e0",
   "metadata": {},
   "outputs": [
    {
     "name": "stdout",
     "output_type": "stream",
     "text": [
      "구구단을 외자~~~구구단을 외자~~~\n",
      "9 X 4 은? 36\n",
      "정답!\n",
      "8 X 2 은? 16\n",
      "정답!\n",
      "9 X 7 은? 63\n",
      "정답!\n",
      "9 X 1 은? 9\n",
      "정답!\n",
      "8 X 3 은? 24\n",
      "정답!\n",
      "7 X 2 은? 14\n",
      "정답!\n",
      "9 X 3 은? 2\n",
      "틀렸습니다\n",
      "8 X 9 은? 72\n",
      "정답!\n",
      "2 X 5 은? 10\n",
      "정답!\n",
      "8 X 1 은? 8\n",
      "정답!\n"
     ]
    }
   ],
   "source": [
    "# 구구단 외기 게임 3 - 정답입력이 맞다 틀리다를 구분 해줘라!\n",
    "import random\n",
    "\n",
    "print('구구단을 외자~~~'*2)\n",
    "\n",
    "for i in range(10):\n",
    "    a=random.randint(2,9)\n",
    "    b=random.randint(1,9)\n",
    "    question= input(f'{a} X {b} 은? ')\n",
    "    answer = int(question)\n",
    "    if answer != a*b:\n",
    "        print('틀렸습니다')\n",
    "    else:\n",
    "        print('정답!')"
   ]
  }
 ],
 "metadata": {
  "kernelspec": {
   "display_name": "Python 3 (ipykernel)",
   "language": "python",
   "name": "python3"
  },
  "language_info": {
   "codemirror_mode": {
    "name": "ipython",
    "version": 3
   },
   "file_extension": ".py",
   "mimetype": "text/x-python",
   "name": "python",
   "nbconvert_exporter": "python",
   "pygments_lexer": "ipython3",
   "version": "3.9.7"
  }
 },
 "nbformat": 4,
 "nbformat_minor": 5
}
