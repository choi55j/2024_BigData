{
 "cells": [
  {
   "cell_type": "markdown",
   "id": "73802f43",
   "metadata": {},
   "source": [
    "## 30916_최수혁_0417_4"
   ]
  },
  {
   "cell_type": "markdown",
   "id": "8c9a81d8",
   "metadata": {},
   "source": [
    "1. 1부터 1000까지 숫자 중에서 2의 배수이거나 3의 배수면 더 하는 프로그램"
   ]
  },
  {
   "cell_type": "code",
   "execution_count": 8,
   "id": "a7c865c6",
   "metadata": {},
   "outputs": [
    {
     "name": "stdout",
     "output_type": "stream",
     "text": [
      "1부터 1000까지 숫자 중에서 2의 배수이거나 3의 배수면 더 하는 프로그램\n",
      "334167\n"
     ]
    }
   ],
   "source": [
    "# 출력\n",
    "print('1부터 1000까지 숫자 중에서 2의 배수이거나 3의 배수면 더 하는 프로그램')\n",
    "res = 0\n",
    "num = 1\n",
    "\n",
    "# 1부터 1000 까지, 반복문, while\n",
    "# 2의 배수이거나 3의 배수\n",
    "# num % 2 ==0\n",
    "# 이거나 or\n",
    "# 3의 배수 num % 3 ==0\n",
    "\n",
    "while num<=1000:\n",
    "    if num%2==0 or num%3==0:\n",
    "        res+=num\n",
    "    num+=1\n",
    "print(res)"
   ]
  },
  {
   "cell_type": "code",
   "execution_count": 10,
   "id": "552ec0cd",
   "metadata": {},
   "outputs": [
    {
     "name": "stdout",
     "output_type": "stream",
     "text": [
      "1부터 1000까지 숫자 중에서 2의 배수이거나 3의 배수면 더 하는 프로그램\n",
      "334167\n"
     ]
    }
   ],
   "source": [
    "print('1부터 1000까지 숫자 중에서 2의 배수이거나 3의 배수면 더 하는 프로그램')\n",
    "res = 0 # 결과를 저장할 변수를 초기화 합니다\n",
    "num = 1 # 시작 숫자를 1로 설정합니다\n",
    "\n",
    "# 1부터 1000까지의 숫자를 반복하면서 조건을 검사합니다\n",
    "while num<=1000:\n",
    "    # 만약 현재 숫자가 2의 배수이거나 3의 배수라면\n",
    "    if num%2==0 or num%3==0:\n",
    "        res+=num # 결과 변수에 현재 숫자를 더합니다\n",
    "    num+=1 # 다음 숫자로 넘어갑니다\n",
    "print(res) # 결과를 출력합니다"
   ]
  },
  {
   "cell_type": "code",
   "execution_count": 9,
   "id": "ace0968e",
   "metadata": {},
   "outputs": [
    {
     "name": "stdout",
     "output_type": "stream",
     "text": [
      "200500\n"
     ]
    }
   ],
   "source": [
    "# 4의 배수이거나 5의 배수이면 더 하는 프로그램\n",
    "res = 0\n",
    "num = 1\n",
    "while num<=1000:\n",
    "    if num%4==0 or num%5==0:\n",
    "        res+=num\n",
    "    num+=1\n",
    "print(res)"
   ]
  },
  {
   "cell_type": "markdown",
   "id": "2b59aca2",
   "metadata": {},
   "source": [
    "2. 구구단을 외자~ ~ ~, 맞은 횟수와 틀린 횟수를 출력한다"
   ]
  },
  {
   "cell_type": "code",
   "execution_count": 14,
   "id": "35344bec",
   "metadata": {},
   "outputs": [
    {
     "name": "stdout",
     "output_type": "stream",
     "text": [
      "구구단을 외자! 구구단을 외자!\n",
      "2x2 = ?\n",
      "4\n",
      "정답!\n",
      "5x8 = ?\n",
      "40\n",
      "정답!\n",
      "8x9 = ?\n",
      "72\n",
      "정답!\n",
      "9x3 = ?\n",
      "27\n",
      "정답!\n",
      "3x6 = ?\n",
      "18\n",
      "정답!\n",
      "4x1 = ?\n",
      "4\n",
      "정답!\n",
      "9x9 = ?\n",
      "81\n",
      "정답!\n",
      "4x1 = ?\n",
      "4\n",
      "정답!\n",
      "5x1 = ?\n",
      "5\n",
      "정답!\n",
      "5x6 = ?\n",
      "30\n",
      "정답!\n",
      "맞춘 횟수 : 10, 틀린 횟수 : 0\n"
     ]
    }
   ],
   "source": [
    "import random # random 메소드를 받아온다\n",
    "print('구구단을 외자! 구구단을 외자!')\n",
    "# 맞은 횟수와 틀린 횟수를 저장할 변수를 초기화합니다.\n",
    "t_cnt = 0\n",
    "f_cnt = 0\n",
    "\n",
    "# 10번 반복하여 구구단 문제를 출제합니다.\n",
    "for i in range(10):\n",
    "    # 2에서 9까지의 임의의 숫자를 선택하여 구구단의 단을 결정합니다\n",
    "    a = random.randint(2,9)\n",
    "    # 1에서 9까지의 임의의 숫자를 선택하여 구구단의 곱을 결정합니다\n",
    "    b = random.randint(1,9)\n",
    "    # 문제를 출력합니다.\n",
    "    print('{}x{} = ?'.format(a,b))\n",
    "    # 사용자로 부터 답을 입력받습니다\n",
    "    answer = int(input(''))\n",
    "    # 사용자의 답과 정답을 비교하여 결과를 출력합니다\n",
    "    if a*b == answer:\n",
    "        print('정답!')\n",
    "        # 맞은 횟수를 증가 시킵니다\n",
    "        t_cnt = t_cnt+1\n",
    "    else:\n",
    "        print('틀렸어요!')\n",
    "        # 틀린 횟수를 증가 시킵니다\n",
    "        f_cnt=f_cnt+1\n",
    "        \n",
    "# 최종적으로 맞은 횟수와 틀린 횟수를 출력합니다\n",
    "print('맞춘 횟수 : {}, 틀린 횟수 : {}'.format(t_cnt,f_cnt))"
   ]
  }
 ],
 "metadata": {
  "kernelspec": {
   "display_name": "Python 3 (ipykernel)",
   "language": "python",
   "name": "python3"
  },
  "language_info": {
   "codemirror_mode": {
    "name": "ipython",
    "version": 3
   },
   "file_extension": ".py",
   "mimetype": "text/x-python",
   "name": "python",
   "nbconvert_exporter": "python",
   "pygments_lexer": "ipython3",
   "version": "3.9.7"
  }
 },
 "nbformat": 4,
 "nbformat_minor": 5
}
