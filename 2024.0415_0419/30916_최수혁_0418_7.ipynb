{
 "cells": [
  {
   "cell_type": "markdown",
   "id": "c55fda22",
   "metadata": {},
   "source": [
    "## 30916_최수혁_0418_7"
   ]
  },
  {
   "cell_type": "code",
   "execution_count": 1,
   "id": "a1fd6c21",
   "metadata": {},
   "outputs": [
    {
     "name": "stdout",
     "output_type": "stream",
     "text": [
      "334167\n"
     ]
    }
   ],
   "source": [
    "# 1부터 1000까지 숫자 중에 2의 배수, 3의 배수만 더 한다\n",
    "r = 0\n",
    "num = 1\n",
    "\n",
    "while num<=1000:\n",
    "    if num%2==0 or num%3==0:\n",
    "        r+=num\n",
    "    num+=1\n",
    "print(r)"
   ]
  },
  {
   "cell_type": "code",
   "execution_count": 3,
   "id": "58c3cc65",
   "metadata": {},
   "outputs": [
    {
     "name": "stdout",
     "output_type": "stream",
     "text": [
      "334167\n"
     ]
    }
   ],
   "source": [
    "r= 0\n",
    "num=1\n",
    "\n",
    "while num<=1000:\n",
    "    if num%2==0 or num%3==0:\n",
    "        r+=num\n",
    "    num+=1\n",
    "print(r)"
   ]
  },
  {
   "cell_type": "code",
   "execution_count": 10,
   "id": "6f87899a",
   "metadata": {},
   "outputs": [
    {
     "name": "stdout",
     "output_type": "stream",
     "text": [
      "5x1=?\n",
      "5\n",
      "정답\n",
      "8x1=?\n",
      "8\n",
      "정답\n",
      "3x5=?\n",
      "15\n",
      "정답\n",
      "2x7=?\n",
      "14\n",
      "정답\n",
      "5x6=?\n",
      "30\n",
      "정답\n",
      "5x6=?\n",
      "30\n",
      "정답\n",
      "9x4=?\n",
      "367\n",
      "오답\n",
      "7x4=?\n",
      "28\n",
      "정답\n",
      "9x7=?\n",
      "63\n",
      "정답\n",
      "4x7=?\n",
      "28\n",
      "정답\n",
      "맞춘 횟수 : 9, 틀린횟수 : 1\n"
     ]
    }
   ],
   "source": [
    "import random\n",
    "t=0\n",
    "f=0\n",
    "\n",
    "for i in range(10):\n",
    "    a=random.randint(2,9)\n",
    "    b=random.randint(1,9)\n",
    "    print('{}x{}=?'.format(a,b))\n",
    "    aw=int(input(''))\n",
    "    if a*b==aw:\n",
    "        print('정답')\n",
    "        t=t+1\n",
    "    else:\n",
    "        print('오답')\n",
    "        f=f+1\n",
    "print('맞춘 횟수 : {}, 틀린횟수 : {}'.format(t,f))"
   ]
  },
  {
   "cell_type": "code",
   "execution_count": 11,
   "id": "092f3553",
   "metadata": {},
   "outputs": [
    {
     "name": "stdout",
     "output_type": "stream",
     "text": [
      "9x2=?\n",
      "18\n",
      "정답\n",
      "2x9=?\n",
      "18\n",
      "정답\n",
      "6x7=?\n",
      "42\n",
      "정답\n",
      "9x4=?\n",
      "36\n",
      "정답\n",
      "3x2=?\n",
      "6\n",
      "정답\n",
      "5x2=?\n",
      "10\n",
      "정답\n",
      "3x5=?\n",
      "15\n",
      "정답\n",
      "6x7=?\n",
      "42\n",
      "정답\n",
      "8x1=?\n",
      "8\n",
      "정답\n",
      "2x4=?\n",
      "8\n",
      "정답\n",
      "맞춘 횟수 : 10, 틀린횟수 : 0\n"
     ]
    }
   ],
   "source": [
    "import random\n",
    "t=0\n",
    "f=0\n",
    "\n",
    "for i in range(10):\n",
    "    a=random.randint(2,9)\n",
    "    b=random.randint(1,9)\n",
    "    print('{}x{}=?'.format(a,b))\n",
    "    aw=int(input(''))\n",
    "    if a*b==aw:\n",
    "        print('정답')\n",
    "        t=t+1\n",
    "    else:\n",
    "        print('오답')\n",
    "        f=f+1\n",
    "print('맞춘 횟수 : {}, 틀린횟수 : {}'.format(t,f))"
   ]
  },
  {
   "cell_type": "code",
   "execution_count": 14,
   "id": "11c9abac",
   "metadata": {},
   "outputs": [
    {
     "name": "stdout",
     "output_type": "stream",
     "text": [
      "1 월의 수입액을 입력\n",
      "1\n",
      "2 월의 수입액을 입력\n",
      "1\n",
      "3 월의 수입액을 입력\n",
      "1\n",
      "4 월의 수입액을 입력\n",
      "1\n",
      "5 월의 수입액을 입력\n",
      "1\n",
      "6 월의 수입액을 입력\n",
      "1\n",
      "상반기 월별 수입\n",
      "상반기 월 수입액 총량 6 만원 입니다\n",
      "상반기 월 수입액 총량 1.0 만원 입니다\n"
     ]
    }
   ],
   "source": [
    "m=[]\n",
    "for i in range(0,6):\n",
    "    print((i+1), '월의 수입액을 입력')\n",
    "    m.append(int(input('')))\n",
    "    \n",
    "s=0\n",
    "j=0\n",
    "print('상반기 월별 수입')\n",
    "while j<6:\n",
    "    s=m[j]+s\n",
    "    j=j+1\n",
    "avg=s/6\n",
    "print('상반기 월 수입액 총량',s,'만원 입니다')\n",
    "print('상반기 월 수입액 총량',avg,'만원 입니다')"
   ]
  },
  {
   "cell_type": "code",
   "execution_count": 18,
   "id": "db19a806",
   "metadata": {},
   "outputs": [
    {
     "name": "stdout",
     "output_type": "stream",
     "text": [
      "1 월의 수입액을 입력\n",
      "1\n",
      "2 월의 수입액을 입력\n",
      "1\n",
      "3 월의 수입액을 입력\n",
      "1\n",
      "4 월의 수입액을 입력\n",
      "1\n",
      "5 월의 수입액을 입력\n",
      "1\n",
      "6 월의 수입액을 입력\n",
      "1\n",
      "상반기 월별 수입액\n",
      "6\n",
      "1.0\n"
     ]
    }
   ],
   "source": [
    "money=[]\n",
    "for j in range(0,6):\n",
    "    print((j+1), '월의 수입액을 입력')\n",
    "    money.append(int(input('')))\n",
    "    \n",
    "s= 0\n",
    "i= 0\n",
    "print('상반기 월별 수입액')\n",
    "while i<6:\n",
    "    s=m[i]+s\n",
    "    i=i+1\n",
    "avg=s/6\n",
    "print(s)\n",
    "print(avg)"
   ]
  },
  {
   "cell_type": "code",
   "execution_count": 21,
   "id": "a077a647",
   "metadata": {},
   "outputs": [
    {
     "name": "stdout",
     "output_type": "stream",
     "text": [
      "2 번 73\n",
      "6 번 77\n",
      "11 번 82\n",
      "12 번 85\n",
      "14 번 71\n",
      "19 번 91\n",
      "2 번 73\n",
      "25 번 76\n"
     ]
    }
   ],
   "source": [
    "import random\n",
    "se= []\n",
    "for i in range(0,25):\n",
    "    se.append(random.randint(0,100))\n",
    "for s in se:\n",
    "    if s>=70:\n",
    "        print(se.index(s)+1,'번',s)"
   ]
  },
  {
   "cell_type": "code",
   "execution_count": 27,
   "id": "27e8976e",
   "metadata": {
    "scrolled": false
   },
   "outputs": [
    {
     "name": "stdout",
     "output_type": "stream",
     "text": [
      "6 번 76\n",
      "10 번 75\n",
      "11 번 73\n",
      "14 번 86\n",
      "16 번 83\n",
      "17 번 100\n",
      "19 번 94\n",
      "21 번 87\n",
      "22 번 95\n",
      "24 번 88\n"
     ]
    }
   ],
   "source": [
    "import random\n",
    "se=[]\n",
    "for i in range(0,25):\n",
    "    se.append(random.randint(0,100))\n",
    "for s in se:\n",
    "    if s>=70:\n",
    "        print(se.index(s),'번',s)"
   ]
  },
  {
   "cell_type": "code",
   "execution_count": 28,
   "id": "96a9ea42",
   "metadata": {},
   "outputs": [
    {
     "name": "stdout",
     "output_type": "stream",
     "text": [
      "몇 호선?팔호선\n",
      "모란\n",
      "수진\n",
      "신흐\n",
      "땡\n",
      "벌칙!\n"
     ]
    }
   ],
   "source": [
    "신분당선 = ['광교','광교중앙','상현','성복','수지구청','동천','미금','정자',\n",
    "       '판교','청계산입구','양재시민의숲','양재','강남']\n",
    "팔호선 = ['모란', '수진', '신흥', '단대오거리', '남한산성입구', '산성', '남위례', '복정', '장지', '문정', '가락시장', '송파', '석촌', '잠실', '몽촌토성', '강동구청', '천호', '암사']\n",
    "호선 = input('몇 호선?')\n",
    "for i in range(10):\n",
    "    if 호선=='신분당선':\n",
    "        입력 = input()\n",
    "        if 입력 not in 신분당선:\n",
    "            print('땡!')\n",
    "            print('벌칙')\n",
    "            break\n",
    "    elif 호선=='팔호선':\n",
    "        입력=input()\n",
    "        if 입력 not in 팔호선:\n",
    "            print('땡')\n",
    "            print('벌칙!')\n",
    "            break"
   ]
  },
  {
   "cell_type": "code",
   "execution_count": 30,
   "id": "27b84ce8",
   "metadata": {},
   "outputs": [
    {
     "name": "stdout",
     "output_type": "stream",
     "text": [
      "몇 호선?팔호선\n",
      "모란\n",
      "산성\n",
      "남한산성입구\n",
      "신흥\n",
      "산성\n",
      "산성\n",
      "산성\n",
      "산성\n",
      "산성\n",
      "모란\n"
     ]
    }
   ],
   "source": [
    "신분당선 = ['광교','광교중앙','상현','성복','수지구청','동천','미금','정자',\n",
    "       '판교','청계산입구','양재시민의숲','양재','강남']\n",
    "팔호선 = ['모란', '수진', '신흥', '단대오거리', '남한산성입구', '산성', '남위례', '복정', '장지', '문정', '가락시장', '송파', '석촌', '잠실', '몽촌토성', '강동구청', '천호', '암사']\n",
    "호선 = input('몇 호선?')\n",
    "for i in range(10):\n",
    "    if 호선=='신분당선':\n",
    "        입력 = input()\n",
    "        if 입력 not in 신분당선:\n",
    "            print('땡')\n",
    "            print('벌칙!')\n",
    "            break\n",
    "    elif 호선 == '팔호선':\n",
    "        입력 = input()\n",
    "        if 입력 not in 팔호선:\n",
    "            print('땡')\n",
    "            print('벌칙')\n",
    "            break"
   ]
  },
  {
   "cell_type": "code",
   "execution_count": null,
   "id": "f8404fd3",
   "metadata": {},
   "outputs": [],
   "source": []
  }
 ],
 "metadata": {
  "kernelspec": {
   "display_name": "Python 3 (ipykernel)",
   "language": "python",
   "name": "python3"
  },
  "language_info": {
   "codemirror_mode": {
    "name": "ipython",
    "version": 3
   },
   "file_extension": ".py",
   "mimetype": "text/x-python",
   "name": "python",
   "nbconvert_exporter": "python",
   "pygments_lexer": "ipython3",
   "version": "3.9.7"
  }
 },
 "nbformat": 4,
 "nbformat_minor": 5
}
