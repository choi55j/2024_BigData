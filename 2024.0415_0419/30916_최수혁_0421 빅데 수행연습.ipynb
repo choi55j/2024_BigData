{
 "cells": [
  {
   "cell_type": "code",
   "execution_count": 1,
   "id": "9613c0f8",
   "metadata": {},
   "outputs": [
    {
     "name": "stdout",
     "output_type": "stream",
     "text": [
      "1부터 1000까지의 숫자 중 2의 배수와 3의 배수만 더하는 프로그램\n",
      "333167\n"
     ]
    }
   ],
   "source": [
    "print('1부터 1000까지의 숫자 중 2의 배수와 3의 배수만 더하는 프로그램')\n",
    "\n",
    "res=0\n",
    "num=0\n",
    "\n",
    "while num<1000:\n",
    "    if num%2==0 or num%3==0:\n",
    "        res+=num\n",
    "    num+=1\n",
    "print(res)"
   ]
  },
  {
   "cell_type": "code",
   "execution_count": 4,
   "id": "2a38ae62",
   "metadata": {},
   "outputs": [
    {
     "name": "stdout",
     "output_type": "stream",
     "text": [
      "구구단을 외자!구구단을 외자!\n",
      "4x7=?\n",
      "정답은? 28\n",
      "정답!\n",
      "5x8=?\n",
      "정답은? 40\n",
      "정답!\n",
      "7x7=?\n",
      "정답은? 49\n",
      "정답!\n",
      "7x8=?\n",
      "정답은? 56\n",
      "정답!\n",
      "9x6=?\n",
      "정답은? 54\n",
      "정답!\n",
      "8x9=?\n",
      "정답은? 72\n",
      "정답!\n",
      "7x7=?\n",
      "정답은? 49\n",
      "정답!\n",
      "6x3=?\n",
      "정답은? 18\n",
      "정답!\n",
      "2x8=?\n",
      "정답은? 16\n",
      "정답!\n",
      "3x4=?\n",
      "정답은? 12\n",
      "정답!\n",
      "맞은 갯수 : 10, 틀린 갯수 : 0\n"
     ]
    }
   ],
   "source": [
    "print('구구단을 외자!'*2)\n",
    "\n",
    "import random\n",
    "\n",
    "t=0\n",
    "f=0\n",
    "\n",
    "for j in range(10):\n",
    "    a=random.randint(2,9)\n",
    "    b=random.randint(1,9)\n",
    "    print(f'{a}x{b}=?')\n",
    "    aw=int(input('정답은? '))\n",
    "    if a*b==aw:\n",
    "        print('정답!')\n",
    "        t+=1\n",
    "    else:\n",
    "        print('오답 ㅠ')\n",
    "        f+=1\n",
    "print(f'맞은 갯수 : {t}, 틀린 갯수 : {f}')"
   ]
  },
  {
   "cell_type": "code",
   "execution_count": 8,
   "id": "c27b4b9e",
   "metadata": {},
   "outputs": [
    {
     "name": "stdout",
     "output_type": "stream",
     "text": [
      "상반기 월 수입액 구하기\n",
      "1 월 별 수입액\n",
      "만원10\n",
      "2 월 별 수입액\n",
      "만원10\n",
      "3 월 별 수입액\n",
      "만원10\n",
      "4 월 별 수입액\n",
      "만원10\n",
      "5 월 별 수입액\n",
      "만원10\n",
      "6 월 별 수입액\n",
      "만원10\n",
      "상반기 월 수입별 총액은 60만원 입니다.\n",
      "상반기 월 수입별 평균은 10.0만원 입니다.\n"
     ]
    }
   ],
   "source": [
    "print('상반기 월 수입액 구하기')\n",
    "m=[]\n",
    "\n",
    "for j in range(0,6):\n",
    "    print((j+1),'월 별 수입액')\n",
    "    m.append(int(input()))\n",
    "    \n",
    "num=0\n",
    "i=0\n",
    "while i<6:\n",
    "    num=m[i]+num\n",
    "    i+=1\n",
    "    \n",
    "avg=num/6\n",
    "print(f'상반기 월 수입별 총액은 {num}만원 입니다.')\n",
    "print(f'상반기 월 수입별 평균은 {avg}만원 입니다.')"
   ]
  },
  {
   "cell_type": "code",
   "execution_count": 78,
   "id": "57e5ce68",
   "metadata": {
    "scrolled": true
   },
   "outputs": [
    {
     "name": "stdout",
     "output_type": "stream",
     "text": [
      "리스트에 점수가 70점 이상인 번호와 값 출력한다\n",
      "2 번 75\n",
      "5 번 90\n",
      "6 번 97\n",
      "9 번 85\n",
      "11 번 99\n",
      "17 번 81\n",
      "22 번 98\n"
     ]
    }
   ],
   "source": [
    "import random\n",
    "\n",
    "score = []\n",
    "for i in range(0,25):\n",
    "    score.append(random.randint(0,100))\n",
    "print('리스트에 점수가 70점 이상인 번호와 값 출력한다')\n",
    "for s in score:\n",
    "    if s>=70:\n",
    "        print(score.index(s)+1,'번',s)"
   ]
  },
  {
   "cell_type": "code",
   "execution_count": 79,
   "id": "b4e60dd5",
   "metadata": {},
   "outputs": [
    {
     "name": "stdout",
     "output_type": "stream",
     "text": [
      "팔호선\n",
      "모란\n",
      "수진\n",
      "신흥\n",
      "단대오거리\n",
      "남한산성입궁\n",
      "땡\n",
      "벌칙!\n"
     ]
    }
   ],
   "source": [
    "# 지하철 게임\n",
    "신분당선 = ['광교','광교중앙','상현','성복','수지구청','동천','미금','정자',\n",
    "       '판교','청계산입구','양재시민의숲','양재','강남']\n",
    "팔호선 = ['모란', '수진', '신흥', '단대오거리', '남한산성입구', '산성', '남위례', '복정', '장지', '문정', '가락시장', '송파', '석촌', '잠실', '몽촌토성', '강동구청', '천호', '암사']\n",
    "호선 = input('무슨 호선 하실래요?')\n",
    "\n",
    "for i in range(10):\n",
    "    if 호선 == '신분당선':\n",
    "        입력 = input()\n",
    "        if 입력 not in 신분당선:\n",
    "            print('땡')\n",
    "            print('벌칙!')\n",
    "            break\n",
    "    elif 호선 == '팔호선':\n",
    "        입력 = input()\n",
    "        if 입력 not in 팔호선:\n",
    "            print('땡')\n",
    "            print('벌칙!')\n",
    "            break"
   ]
  },
  {
   "cell_type": "code",
   "execution_count": 85,
   "id": "b8eb800e",
   "metadata": {},
   "outputs": [
    {
     "name": "stdout",
     "output_type": "stream",
     "text": [
      "333167\n"
     ]
    }
   ],
   "source": [
    "res = 0\n",
    "num = 0\n",
    "while num<1000:\n",
    "    if num%2==0 or num%3==0:\n",
    "        res+=num\n",
    "    num+=1\n",
    "\n",
    "print(res)"
   ]
  },
  {
   "cell_type": "code",
   "execution_count": 86,
   "id": "327719be",
   "metadata": {},
   "outputs": [
    {
     "name": "stdout",
     "output_type": "stream",
     "text": [
      "3x8=? \n",
      "정답? 24\n",
      "정답입니다\n",
      "9x1=? \n",
      "정답? 9\n",
      "정답입니다\n",
      "2x7=? \n",
      "정답? 14\n",
      "정답입니다\n",
      "3x4=? \n",
      "정답? 12\n",
      "정답입니다\n",
      "9x8=? \n",
      "정답? 72\n",
      "정답입니다\n",
      "2x2=? \n",
      "정답? 4\n",
      "정답입니다\n",
      "6x6=? \n",
      "정답? 36\n",
      "정답입니다\n",
      "4x9=? \n",
      "정답? 36\n",
      "정답입니다\n",
      "8x1=? \n",
      "정답? 8\n",
      "정답입니다\n",
      "2x1=? \n",
      "정답? 2\n",
      "정답입니다\n",
      "맞은 갯수는 10, 틀린 갯수는 0\n"
     ]
    }
   ],
   "source": [
    "import random\n",
    "m = []\n",
    "\n",
    "t=0\n",
    "f=0\n",
    "\n",
    "for i in range(10):\n",
    "    a=random.randint(2,9)\n",
    "    b=random.randint(1,9)\n",
    "    print(f'{a}x{b}=? ')\n",
    "    aw = int(input('정답? '))\n",
    "    if a*b == aw:\n",
    "        print('정답입니다')\n",
    "        t+=1\n",
    "    else:\n",
    "        print('오답입니다')\n",
    "        f+=1\n",
    "print(f'맞은 갯수는 {t}, 틀린 갯수는 {f}')"
   ]
  },
  {
   "cell_type": "code",
   "execution_count": 87,
   "id": "3ba463ff",
   "metadata": {},
   "outputs": [
    {
     "name": "stdout",
     "output_type": "stream",
     "text": [
      "1 월 별 수입액\n",
      "10\n",
      "2 월 별 수입액\n",
      "20\n",
      "3 월 별 수입액\n",
      "30\n",
      "4 월 별 수입액\n",
      "40\n",
      "5 월 별 수입액\n",
      "50\n",
      "6 월 별 수입액\n",
      "60\n",
      "상반기 월 수입액 평균은 35.0만원 입니다\n",
      "상반기 월 수입액 총액은 210만원 입니다\n"
     ]
    }
   ],
   "source": [
    "m = []\n",
    "\n",
    "for j in range(0,6):\n",
    "    print((j+1),'월 별 수입액')\n",
    "    m.append(int(input()))\n",
    "num = 0\n",
    "i = 0\n",
    "while i<6:\n",
    "    num=m[i]+num\n",
    "    i+=1\n",
    "avg=num/6\n",
    "print(f'상반기 월 수입액 평균은 {avg}만원 입니다')\n",
    "print(f'상반기 월 수입액 총액은 {num}만원 입니다')"
   ]
  },
  {
   "cell_type": "code",
   "execution_count": 88,
   "id": "540b0c60",
   "metadata": {},
   "outputs": [
    {
     "name": "stdout",
     "output_type": "stream",
     "text": [
      "1 번 87\n",
      "2 번 76\n",
      "5 번 99\n",
      "6 번 70\n",
      "11 번 85\n",
      "12 번 89\n",
      "16 번 73\n",
      "12 번 89\n",
      "25 번 81\n"
     ]
    }
   ],
   "source": [
    "import random\n",
    "score = []\n",
    "for i in range(0,25):\n",
    "    score.append(random.randint(0,100))\n",
    "    \n",
    "for s in score:\n",
    "    if s>=70:\n",
    "        print(score.index(s)+1, '번', s)"
   ]
  },
  {
   "cell_type": "code",
   "execution_count": 89,
   "id": "81259c9e",
   "metadata": {},
   "outputs": [
    {
     "name": "stdout",
     "output_type": "stream",
     "text": [
      "무슨 호선?? 팔호선\n",
      "역 이름은?? 모란\n",
      "역 이름은?? 수진\n",
      "역 이름은?? 신흥\n",
      "역 이름은?? 단대오거리\n",
      "역 이름은?? 남한산성입구\n",
      "역 이름은?? 산성\n",
      "역 이름은?? 남위례\n",
      "역 이름은?? 복정\n",
      "역 이름은?? 아니\n",
      "땡\n",
      "벌칙 받아요!!\n"
     ]
    }
   ],
   "source": [
    "신분당선 = ['광교','광교중앙','상현','성복','수지구청','동천','미금','정자',\n",
    "       '판교','청계산입구','양재시민의숲','양재','강남']\n",
    "팔호선 = ['모란', '수진', '신흥', '단대오거리', '남한산성입구', '산성', '남위례', '복정', '장지', '문정', '가락시장', '송파', '석촌', '잠실', '몽촌토성', '강동구청', '천호', '암사']\n",
    "호선 = input('무슨 호선?? ')\n",
    "for i in range(10):\n",
    "    if 호선=='신분당선':\n",
    "        입력 = input('역 이름은?? ')\n",
    "        if 입력 not in 신분당선:\n",
    "            print('땡')\n",
    "            print('벌칙 받아요!!')\n",
    "            break\n",
    "    elif 호선=='팔호선':\n",
    "        입력 = input('역 이름은?? ')\n",
    "        if 입력 not in 팔호선:\n",
    "            print('땡')\n",
    "            print('벌칙 받아요!!' )\n",
    "            break"
   ]
  }
 ],
 "metadata": {
  "kernelspec": {
   "display_name": "Python 3 (ipykernel)",
   "language": "python",
   "name": "python3"
  },
  "language_info": {
   "codemirror_mode": {
    "name": "ipython",
    "version": 3
   },
   "file_extension": ".py",
   "mimetype": "text/x-python",
   "name": "python",
   "nbconvert_exporter": "python",
   "pygments_lexer": "ipython3",
   "version": "3.11.4"
  }
 },
 "nbformat": 4,
 "nbformat_minor": 5
}
