{
 "cells": [
  {
   "cell_type": "markdown",
   "id": "d269a846",
   "metadata": {},
   "source": [
    "## 30916_최수혁_0318_1"
   ]
  },
  {
   "cell_type": "code",
   "execution_count": 8,
   "id": "151f0f61",
   "metadata": {},
   "outputs": [
    {
     "name": "stdout",
     "output_type": "stream",
     "text": [
      "세 정수의 최대값을 구합니다.\n",
      "정수 a의 값을 입력하세요. : 3\n",
      "정수 b의 값을 입력하세요. : 4\n",
      "정수 c의 값을 입력하세요. : 2\n",
      "최대 값은  4 입니다.\n"
     ]
    }
   ],
   "source": [
    "print('세 정수의 최대값을 구합니다.')\n",
    "a = int(input('정수 a의 값을 입력하세요. : '))\n",
    "b = int(input('정수 b의 값을 입력하세요. : '))\n",
    "c = int(input('정수 c의 값을 입력하세요. : '))\n",
    "print('최대 값은 ',max(a,b,c),'입니다.')"
   ]
  },
  {
   "cell_type": "code",
   "execution_count": 13,
   "id": "5b0b87d3",
   "metadata": {},
   "outputs": [
    {
     "name": "stdout",
     "output_type": "stream",
     "text": [
      "세 정수의 최대값을 구합니다.\n",
      "정수 a의 값을 입력하세요. : 1\n",
      "정수 b의 값을 입력하세요. : 2\n",
      "정수 c의 값을 입력하세요. : 3\n",
      "최대값은 3입니다.\n"
     ]
    }
   ],
   "source": [
    "print('세 정수의 최대값을 구합니다.')\n",
    "a = int(input('정수 a의 값을 입력하세요. : '))\n",
    "b = int(input('정수 b의 값을 입력하세요. : '))\n",
    "c = int(input('정수 c의 값을 입력하세요. : '))\n",
    "\n",
    "# 최대값을 구하는 알고리즘\n",
    "max = a\n",
    "if b>max : max = b\n",
    "if c>max : max = c\n",
    "print(f'최대값은 {max}입니다.')"
   ]
  },
  {
   "cell_type": "code",
   "execution_count": 32,
   "id": "e850ba2a",
   "metadata": {},
   "outputs": [
    {
     "name": "stdout",
     "output_type": "stream",
     "text": [
      "정수를 입력하세요. : 1\n",
      "이 수는 양수입니다.\n",
      "\n"
     ]
    }
   ],
   "source": [
    "a = int(input('정수를 입력하세요. : '))\n",
    "if a>0 :\n",
    "    print('이 수는 양수입니다.')\n",
    "elif a<0 :\n",
    "    print('이 수는 음수입니다')\n",
    "else :\n",
    "    print('0 입니다')\n",
    "print()"
   ]
  },
  {
   "cell_type": "code",
   "execution_count": 46,
   "id": "ca964bd6",
   "metadata": {},
   "outputs": [
    {
     "name": "stdout",
     "output_type": "stream",
     "text": [
      "1부터 n까지 정수의 합을 구합니다.\n",
      "n 값을 입력하세요. : 15\n",
      "1부터 15까지 정수의 합은 120입니다.\n"
     ]
    }
   ],
   "source": [
    "print('1부터 n까지 정수의 합을 구합니다.')\n",
    "n=int(input('n 값을 입력하세요. : '))\n",
    "\n",
    "sum = 0 # 값을 초기화\n",
    "i = 1\n",
    "while i<= n:\n",
    "    sum+=i #sum = sum+i\n",
    "    i+=1 #i=i+1\n",
    "\n",
    "#출력\n",
    "print(f'1부터 {n}까지 정수의 합은 {sum}입니다.')"
   ]
  },
  {
   "cell_type": "code",
   "execution_count": null,
   "id": "071d54de",
   "metadata": {},
   "outputs": [],
   "source": []
  }
 ],
 "metadata": {
  "kernelspec": {
   "display_name": "Python 3 (ipykernel)",
   "language": "python",
   "name": "python3"
  },
  "language_info": {
   "codemirror_mode": {
    "name": "ipython",
    "version": 3
   },
   "file_extension": ".py",
   "mimetype": "text/x-python",
   "name": "python",
   "nbconvert_exporter": "python",
   "pygments_lexer": "ipython3",
   "version": "3.9.7"
  }
 },
 "nbformat": 4,
 "nbformat_minor": 5
}
