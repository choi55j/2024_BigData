{
 "cells": [
  {
   "cell_type": "markdown",
   "id": "7b27a65a",
   "metadata": {},
   "source": [
    "## 30916_최수혁_0321_7"
   ]
  },
  {
   "cell_type": "code",
   "execution_count": 4,
   "id": "124fec54",
   "metadata": {},
   "outputs": [
    {
     "name": "stdout",
     "output_type": "stream",
     "text": [
      "+와 -를 번갈아 출력합니다.\n",
      "몇개를 출력할까요? : 12\n",
      "+-+-+-+-+-+-\n"
     ]
    }
   ],
   "source": [
    "print('+와 -를 번갈아 출력합니다.')\n",
    "a = int(input('몇개를 출력할까요? : '))\n",
    "for i in range(a):\n",
    "    if i%2:\n",
    "        print('-',end='')\n",
    "    else:\n",
    "        print('+',end='')\n",
    "print()"
   ]
  },
  {
   "cell_type": "code",
   "execution_count": 35,
   "id": "1cbebe72",
   "metadata": {},
   "outputs": [
    {
     "name": "stdout",
     "output_type": "stream",
     "text": [
      "+와 -를 번갈아 출력합니다.\n",
      "몇개를 출력할까요? : 12\n",
      "-+-+-+-+-+-+\n"
     ]
    }
   ],
   "source": [
    "print('+와 -를 번갈아 출력합니다.')\n",
    "a = int(input('몇개를 출력할까요? : '))\n",
    "for i in range(1,a+1):\n",
    "    if i%2:\n",
    "        print('-',end='')\n",
    "    else:\n",
    "        print('+',end='')\n",
    "print()"
   ]
  },
  {
   "cell_type": "code",
   "execution_count": 37,
   "id": "27b0d73a",
   "metadata": {},
   "outputs": [
    {
     "name": "stdout",
     "output_type": "stream",
     "text": [
      "+와 -를 번갈아 출력합니다.\n",
      "몇개를 출력할까요? : 20\n",
      "+-+-+-+-+-+-+-+-+-+-\n"
     ]
    }
   ],
   "source": [
    "print('+와 -를 번갈아 출력합니다.')\n",
    "a = int(input('몇개를 출력할까요? : '))\n",
    "\n",
    "for _ in range(a//2):\n",
    "    print('+-',end='') # n//2 2개의 +-를 출력\n",
    "\n",
    "if a%2:\n",
    "    print('+',end='') # n이 홀 수 일때만 +출력\n",
    "    \n",
    "print()"
   ]
  },
  {
   "cell_type": "code",
   "execution_count": 43,
   "id": "2b1a1a6f",
   "metadata": {},
   "outputs": [
    {
     "name": "stdout",
     "output_type": "stream",
     "text": [
      "*을 출력합니다\n",
      "몇 개를 출력할까요? : 19\n",
      "몇 개마다 줄 바꿈을 할까요? : 4\n",
      "****\n",
      "****\n",
      "****\n",
      "****\n",
      "***"
     ]
    }
   ],
   "source": [
    "print('*을 출력합니다')\n",
    "a = int(input('몇 개를 출력할까요? : '))\n",
    "b = int(input('몇 개마다 줄 바꿈을 할까요? : '))\n",
    "\n",
    "for i in range(a):\n",
    "    print('*',end='')\n",
    "    if i%b==b-1:#a번 판단\n",
    "        print() #줄바꿈"
   ]
  },
  {
   "cell_type": "code",
   "execution_count": 4,
   "id": "8a353242",
   "metadata": {},
   "outputs": [
    {
     "name": "stdout",
     "output_type": "stream",
     "text": [
      "1부터 n까지 정수의 합을 구합시다.\n",
      "n값을 입력하세요. : 0\n",
      "n값을 입력하세요. : -5\n",
      "n값을 입력하세요. : -6\n",
      "n값을 입력하세요. : 10\n",
      "1부터 10까지 정수의 합은55입니다.\n"
     ]
    }
   ],
   "source": [
    "print('1부터 n까지 정수의 합을 구합시다.')\n",
    "\n",
    "while True:\n",
    "    a=int(input('n값을 입력하세요. : '))\n",
    "    if a>0:\n",
    "        break\n",
    "    \n",
    "sum=0\n",
    "i=1\n",
    "\n",
    "for i in range(1,a+1):\n",
    "    sum+=i\n",
    "    i+=1\n",
    "print(f'1부터 {a}까지 정수의 합은{sum}입니다.')"
   ]
  }
 ],
 "metadata": {
  "kernelspec": {
   "display_name": "Python 3 (ipykernel)",
   "language": "python",
   "name": "python3"
  },
  "language_info": {
   "codemirror_mode": {
    "name": "ipython",
    "version": 3
   },
   "file_extension": ".py",
   "mimetype": "text/x-python",
   "name": "python",
   "nbconvert_exporter": "python",
   "pygments_lexer": "ipython3",
   "version": "3.9.7"
  }
 },
 "nbformat": 4,
 "nbformat_minor": 5
}
