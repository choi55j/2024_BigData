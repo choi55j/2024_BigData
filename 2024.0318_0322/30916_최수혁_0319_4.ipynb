{
 "cells": [
  {
   "cell_type": "markdown",
   "id": "1b0d9bff",
   "metadata": {},
   "source": [
    "## 30916_최수혁_0319_4"
   ]
  },
  {
   "cell_type": "code",
   "execution_count": 10,
   "id": "8de904c6",
   "metadata": {},
   "outputs": [
    {
     "name": "stdout",
     "output_type": "stream",
     "text": [
      "1부터 n까지 정수의 합을 구합니다.\n",
      "n값을 입력하시오. 123456789\n",
      "1부터 123456789까지 정수으의 합은 7620789436823655입니다.\n"
     ]
    }
   ],
   "source": [
    "print('1부터 n까지 정수의 합을 구합니다.')\n",
    "n=int(input('n값을 입력하시오. '))\n",
    "\n",
    "sum=0\n",
    "i=1\n",
    "\n",
    "while i<=n:\n",
    "    sum+=i\n",
    "    i+=1\n",
    "print(f'1부터 {n}까지 정수으의 합은 {sum}입니다.')"
   ]
  },
  {
   "cell_type": "code",
   "execution_count": 16,
   "id": "6f500019",
   "metadata": {},
   "outputs": [
    {
     "name": "stdout",
     "output_type": "stream",
     "text": [
      "1부터 n까지 정수의 합을 구합니다.\n",
      "n값을 입력하시오. 5\n",
      "1부터 5까지 정수으의 합은 15입니다.\n"
     ]
    }
   ],
   "source": [
    "# for문으로 만들어 봅시다\n",
    "\n",
    "print('1부터 n까지 정수의 합을 구합니다.')\n",
    "n=int(input('n값을 입력하시오. '))\n",
    "\n",
    "sum=0\n",
    "\n",
    "for i in range(1,n+1):\n",
    "    sum+=i\n",
    "print(f'1부터 {n}까지 정수으의 합은 {sum}입니다.')"
   ]
  },
  {
   "cell_type": "code",
   "execution_count": 22,
   "id": "90c31b87",
   "metadata": {},
   "outputs": [
    {
     "name": "stdout",
     "output_type": "stream",
     "text": [
      "a 부터 b 까지 정수의 합을 구합니다.\n",
      "정수 a를 입력하시오 : 3\n",
      "정수 b를 입력하시오 : 8\n",
      "3부터 8까지 정수의 합은 33입니다.\n"
     ]
    }
   ],
   "source": [
    "print('a 부터 b 까지 정수의 합을 구합니다.')\n",
    "a = int(input('정수 a를 입력하시오 : '))\n",
    "b = int(input('정수 b를 입력하시오 : '))\n",
    "if a>b :\n",
    "    a, b = b,a #a,b를 오름차순으로 정렬\n",
    "\n",
    "sum=0\n",
    "\n",
    "for i in range(a,b+1):\n",
    "    sum+=i\n",
    "\n",
    "print(f'{a}부터 {b}까지 정수의 합은 {sum}입니다.')"
   ]
  },
  {
   "cell_type": "code",
   "execution_count": 30,
   "id": "092dfb26",
   "metadata": {},
   "outputs": [
    {
     "name": "stdout",
     "output_type": "stream",
     "text": [
      "a부터 b까지 정수의 합을 구합시다.\n",
      "a 값을 입력하시오1\n",
      "b 값을 입력하시오100\n",
      "1 + 2 + 3 + 4 + 5 + 6 + 7 + 8 + 9 + 10 + 11 + 12 + 13 + 14 + 15 + 16 + 17 + 18 + 19 + 20 + 21 + 22 + 23 + 24 + 25 + 26 + 27 + 28 + 29 + 30 + 31 + 32 + 33 + 34 + 35 + 36 + 37 + 38 + 39 + 40 + 41 + 42 + 43 + 44 + 45 + 46 + 47 + 48 + 49 + 50 + 51 + 52 + 53 + 54 + 55 + 56 + 57 + 58 + 59 + 60 + 61 + 62 + 63 + 64 + 65 + 66 + 67 + 68 + 69 + 70 + 71 + 72 + 73 + 74 + 75 + 76 + 77 + 78 + 79 + 80 + 81 + 82 + 83 + 84 + 85 + 86 + 87 + 88 + 89 + 90 + 91 + 92 + 93 + 94 + 95 + 96 + 97 + 98 + 99 + 100 = 5050\n"
     ]
    }
   ],
   "source": [
    "# a부터 b까지 정수의 합을 구하는 과정과 최종값을 출력하는 프로그램\n",
    "print('a부터 b까지 정수의 합을 구합시다.')\n",
    "a= int(input('a 값을 입력하시오'))\n",
    "b= int(input('b 값을 입력하시오'))\n",
    "\n",
    "if a>b:\n",
    "    a,b=b,a\n",
    "    \n",
    "sum = 0\n",
    "\n",
    "for i in range(a,b+1):\n",
    "    if i < b: #i가 b보다 작으면 합을 구하는 과정을 출력\n",
    "        print(f'{i} + ',end='')\n",
    "    else:\n",
    "        print(f'{i} = ', end='')\n",
    "    sum += i\n",
    "    \n",
    "print(sum)"
   ]
  },
  {
   "cell_type": "code",
   "execution_count": null,
   "id": "b5b28672",
   "metadata": {},
   "outputs": [],
   "source": []
  }
 ],
 "metadata": {
  "kernelspec": {
   "display_name": "Python 3 (ipykernel)",
   "language": "python",
   "name": "python3"
  },
  "language_info": {
   "codemirror_mode": {
    "name": "ipython",
    "version": 3
   },
   "file_extension": ".py",
   "mimetype": "text/x-python",
   "name": "python",
   "nbconvert_exporter": "python",
   "pygments_lexer": "ipython3",
   "version": "3.9.7"
  }
 },
 "nbformat": 4,
 "nbformat_minor": 5
}
