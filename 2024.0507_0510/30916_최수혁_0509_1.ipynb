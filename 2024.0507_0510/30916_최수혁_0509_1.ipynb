{
 "cells": [
  {
   "cell_type": "code",
   "execution_count": 6,
   "id": "7909666b",
   "metadata": {},
   "outputs": [
    {
     "name": "stdout",
     "output_type": "stream",
     "text": [
      "영어단어, 뜻banana, 바나나\n",
      "영어단어, 뜻\n"
     ]
    },
    {
     "data": {
      "text/plain": [
       "{'banana': ' 바나나'}"
      ]
     },
     "execution_count": 6,
     "metadata": {},
     "output_type": "execute_result"
    }
   ],
   "source": [
    "di = {}\n",
    "\n",
    "while True:\n",
    "    word = input('영어단어, 뜻')\n",
    "    if word == '':\n",
    "        break\n",
    "    eng = word.split(',')[0]\n",
    "    kor = word.split(',')[1]\n",
    "    \n",
    "    di[eng] = kor\n",
    "di"
   ]
  },
  {
   "cell_type": "code",
   "execution_count": 7,
   "id": "1e37cd4a",
   "metadata": {},
   "outputs": [
    {
     "name": "stdout",
     "output_type": "stream",
     "text": [
      "얼마를 구매 했나요? : 100000\n",
      "\n",
      "구매가 : 100000\n",
      "할인율 : 10%\n",
      "할인금액 : 10000.0\n",
      "지불금액 : 90000.0\n",
      "\n"
     ]
    }
   ],
   "source": [
    "pr = int(input('얼마를 구매 했나요? : '))\n",
    "\n",
    "if pr>=100000:\n",
    "    dc = 10\n",
    "elif pr>= 50000:\n",
    "    dc = 7\n",
    "elif pr>= 10000:\n",
    "    dc = 5\n",
    "else:\n",
    "    dc = 0\n",
    "print(f'''\n",
    "구매가 : {pr}\n",
    "할인율 : {dc}%\n",
    "할인금액 : {pr*(dc/100)}\n",
    "지불금액 : {pr-pr*(dc/100)}\n",
    "''')"
   ]
  },
  {
   "cell_type": "code",
   "execution_count": 11,
   "id": "5f07887a",
   "metadata": {},
   "outputs": [
    {
     "name": "stdout",
     "output_type": "stream",
     "text": [
      "숫자1 : 10\n",
      "숫자2 : 10\n",
      "사칙연산기호 : +\n",
      "10 + 10 = 20\n"
     ]
    }
   ],
   "source": [
    "num1 = int(input('숫자1 : '))\n",
    "num2 = int(input('숫자2 : '))\n",
    "op = input('사칙연산기호 : ')\n",
    "\n",
    "if op=='+':\n",
    "    print(f'{num1} + {num2} = {num1+num2}')\n",
    "elif op =='-':\n",
    "    print(f'{num1} - {num2} = {num1-num2}')\n",
    "elif op =='*':\n",
    "    print(f'{num1} * {num2} = {num1*num2}')\n",
    "elif op =='/':\n",
    "    print(f'{num1} / {num2} = {num1/num2}')\n",
    "else:\n",
    "    print('잘못 입력하셨습니다')"
   ]
  },
  {
   "cell_type": "code",
   "execution_count": 15,
   "id": "80841a0c",
   "metadata": {},
   "outputs": [
    {
     "name": "stdout",
     "output_type": "stream",
     "text": [
      "1 ,예상 숫자를 입력하시오30\n",
      "Up\n",
      "2 ,예상 숫자를 입력하시오50\n",
      "Down\n",
      "3 ,예상 숫자를 입력하시오43\n",
      "Up\n",
      "4 ,예상 숫자를 입력하시오47\n",
      "정답입니다\n",
      "4번 만에 맞췄습니다\n"
     ]
    }
   ],
   "source": [
    "import random\n",
    "def game(max=5):\n",
    "    num=random.randint(1,100)\n",
    "    cnt=0\n",
    "    \n",
    "    while cnt<max:\n",
    "        cnt+=1\n",
    "        awn = int(input(f'{cnt} ,예상 숫자를 입력하시오'))\n",
    "        if awn == num:\n",
    "            print('정답입니다')\n",
    "            print(f'{cnt}번 만에 맞췄습니다')\n",
    "            return\n",
    "        if awn<num:\n",
    "            print('Up')\n",
    "        else:\n",
    "            print('Down')\n",
    "    print(f'횟수 초과입니다. 정답은 {num}였습니다')\n",
    "    \n",
    "game()"
   ]
  },
  {
   "cell_type": "code",
   "execution_count": 17,
   "id": "4cdbc0c3",
   "metadata": {},
   "outputs": [
    {
     "name": "stdout",
     "output_type": "stream",
     "text": [
      "아이디는? : id123\n",
      "비밀번호는? : d\n",
      "비밀번호를 입력하세여\n",
      "아이디는? : d\n",
      "비밀번호는? : d\n",
      "아이디를 확인하세여\n",
      "아이디는? : id123\n",
      "비밀번호는? : pwd123\n"
     ]
    }
   ],
   "source": [
    "id = 'id123'\n",
    "pwd = 'pwd123'\n",
    "\n",
    "while True:\n",
    "    a = input('아이디는? : ')\n",
    "    b = input('비밀번호는? : ')\n",
    "    if id == a and pwd==b:\n",
    "        break\n",
    "    if id!=a:\n",
    "        print('아이디를 확인하세여')\n",
    "    if pwd !=b:\n",
    "        print('비밀번호를 입력하세여')"
   ]
  }
 ],
 "metadata": {
  "kernelspec": {
   "display_name": "Python 3 (ipykernel)",
   "language": "python",
   "name": "python3"
  },
  "language_info": {
   "codemirror_mode": {
    "name": "ipython",
    "version": 3
   },
   "file_extension": ".py",
   "mimetype": "text/x-python",
   "name": "python",
   "nbconvert_exporter": "python",
   "pygments_lexer": "ipython3",
   "version": "3.9.7"
  }
 },
 "nbformat": 4,
 "nbformat_minor": 5
}
