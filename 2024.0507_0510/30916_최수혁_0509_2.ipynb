{
 "cells": [
  {
   "cell_type": "markdown",
   "id": "613b8b88",
   "metadata": {},
   "source": [
    "# 30916_최수혁_0509_2"
   ]
  },
  {
   "cell_type": "code",
   "execution_count": 3,
   "id": "1df2bfc4",
   "metadata": {},
   "outputs": [
    {
     "name": "stdout",
     "output_type": "stream",
     "text": [
      "영어단어, 뜻 : banana, 바나나\n",
      "영어단어, 뜻 : \n"
     ]
    },
    {
     "data": {
      "text/plain": [
       "{'banana': ' 바나나'}"
      ]
     },
     "execution_count": 3,
     "metadata": {},
     "output_type": "execute_result"
    }
   ],
   "source": [
    "di = {}\n",
    "\n",
    "while True:\n",
    "    a = input('영어단어, 뜻 : ')\n",
    "    if a=='':\n",
    "        break\n",
    "    eng = a.split(',')[0]\n",
    "    kor = a.split(',')[1]\n",
    "    di[eng] = kor\n",
    "di"
   ]
  },
  {
   "cell_type": "code",
   "execution_count": 5,
   "id": "d09242f2",
   "metadata": {
    "scrolled": true
   },
   "outputs": [
    {
     "name": "stdout",
     "output_type": "stream",
     "text": [
      "물건 구매 가격은? : 100000\n",
      "\n",
      "구매가 : 100000\n",
      "할인율 : 10%\n",
      "할인가격 : 10000.0\n",
      "구매가격 : 90000.0\n",
      "\n"
     ]
    }
   ],
   "source": [
    "pr = int(input('물건 구매 가격은? : '))\n",
    "\n",
    "if pr>=100000:\n",
    "    dc = 10\n",
    "elif pr>=50000:\n",
    "    dc=7\n",
    "elif pr>=10000:\n",
    "    dc = 5\n",
    "else:\n",
    "    dc=0\n",
    "    \n",
    "print(f'''\n",
    "구매가 : {pr}\n",
    "할인율 : {dc}%\n",
    "할인가격 : {pr*(dc/100)}\n",
    "구매가격 : {pr-pr*(dc/100)}\n",
    "''')"
   ]
  },
  {
   "cell_type": "code",
   "execution_count": 9,
   "id": "f1041f14",
   "metadata": {},
   "outputs": [
    {
     "name": "stdout",
     "output_type": "stream",
     "text": [
      "숫자1은? : 10\n",
      "숫자2는? : 10\n",
      "사칙연산 : -\n",
      "10 - 10 = 0\n"
     ]
    }
   ],
   "source": [
    "num1 = int(input('숫자1은? : '))\n",
    "num2 = int(input('숫자2는? : '))\n",
    "op = input('사칙연산 : ')\n",
    "if op=='+':\n",
    "    print(f'{num1} + {num2} = {num1+num2}')\n",
    "elif op=='-':\n",
    "    print(f'{num1} - {num2} = {num1-num2}')\n",
    "elif op=='*':\n",
    "    print(f'{num1} * {num2} = {num1*num2}')\n",
    "elif op=='/':\n",
    "    print(f'{num1} / {num2} = {num1/num2}')"
   ]
  },
  {
   "cell_type": "code",
   "execution_count": 14,
   "id": "491ea555",
   "metadata": {},
   "outputs": [
    {
     "name": "stdout",
     "output_type": "stream",
     "text": [
      "1, 예상 숫자를 입력해보세요50\n",
      "Down\n",
      "2, 예상 숫자를 입력해보세요30\n",
      "Up\n",
      "3, 예상 숫자를 입력해보세요35\n",
      "Up\n",
      "4, 예상 숫자를 입력해보세요45\n",
      "정답입니다\n",
      "4번 만에 맞췄습니다\n"
     ]
    }
   ],
   "source": [
    "import random\n",
    "def game(max=5):\n",
    "    num = random.randint(1,100)\n",
    "    cnt = 0\n",
    "    while cnt<max:\n",
    "        cnt+=1\n",
    "        anw = int(input(f'{cnt}, 예상 숫자를 입력해보세요'))\n",
    "        if anw==num:\n",
    "            print('정답입니다')\n",
    "            print(f'{cnt}번 만에 맞췄습니다')\n",
    "            return\n",
    "        if anw<num:\n",
    "            print('Up')\n",
    "        else:\n",
    "            print('Down')\n",
    "    print(f'횟수 초과입니다. 정답은 {num}입니다.')\n",
    "game()"
   ]
  },
  {
   "cell_type": "code",
   "execution_count": 18,
   "id": "f2bea236",
   "metadata": {},
   "outputs": [
    {
     "name": "stdout",
     "output_type": "stream",
     "text": [
      "아이디? : id\n",
      "비밀번호? : pwd\n",
      "아이디를 확인하세요\n",
      "비밀번호를 확인하세요\n",
      "아이디? : \n",
      "비밀번호? : id\n",
      "아이디를 확인하세요\n",
      "비밀번호를 확인하세요\n",
      "아이디? : pdw\n",
      "비밀번호? : pwd123\n",
      "아이디를 확인하세요\n",
      "아이디? : id123\n",
      "비밀번호? : p\n",
      "비밀번호를 확인하세요\n",
      "아이디? : id123\n",
      "비밀번호? : pwd123\n"
     ]
    }
   ],
   "source": [
    "id = 'id123'\n",
    "pwd = 'pwd123'\n",
    "\n",
    "while True:\n",
    "    a = input('아이디? : ')\n",
    "    b = input('비밀번호? : ')\n",
    "    if id==a and pwd==b:\n",
    "        break\n",
    "    if id!=a:\n",
    "        print('아이디를 확인하세요')\n",
    "    if pwd!=b:\n",
    "        print('비밀번호를 확인하세요')"
   ]
  }
 ],
 "metadata": {
  "kernelspec": {
   "display_name": "Python 3 (ipykernel)",
   "language": "python",
   "name": "python3"
  },
  "language_info": {
   "codemirror_mode": {
    "name": "ipython",
    "version": 3
   },
   "file_extension": ".py",
   "mimetype": "text/x-python",
   "name": "python",
   "nbconvert_exporter": "python",
   "pygments_lexer": "ipython3",
   "version": "3.9.7"
  }
 },
 "nbformat": 4,
 "nbformat_minor": 5
}
