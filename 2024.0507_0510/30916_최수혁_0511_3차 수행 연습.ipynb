{
 "cells": [
  {
   "cell_type": "code",
   "execution_count": 2,
   "id": "a6859b17",
   "metadata": {},
   "outputs": [
    {
     "name": "stdout",
     "output_type": "stream",
     "text": [
      "영어단어, 뜻banana, 바나나\n",
      "영어단어, 뜻\n"
     ]
    },
    {
     "data": {
      "text/plain": [
       "{'banana': ' 바나나'}"
      ]
     },
     "execution_count": 2,
     "metadata": {},
     "output_type": "execute_result"
    }
   ],
   "source": [
    "di = {}\n",
    "while True:\n",
    "    a=input('영어단어, 뜻')\n",
    "    if a == '':\n",
    "        break\n",
    "    eng = a.split(',')[0]\n",
    "    kor = a.split(',')[1]\n",
    "    di[eng] = kor\n",
    "di"
   ]
  },
  {
   "cell_type": "code",
   "execution_count": 8,
   "id": "ad971396",
   "metadata": {},
   "outputs": [
    {
     "name": "stdout",
     "output_type": "stream",
     "text": [
      "구매 가격은? 100000\n",
      "\n",
      "구매가 : 100000\n",
      "할인율 : 10\n",
      "할인가격 : 10000.0\n",
      "구매가격 : 90000.0\n",
      "\n"
     ]
    }
   ],
   "source": [
    "price = int(input('구매 가격은? '))\n",
    "\n",
    "if price>=100000:\n",
    "    dc = 10\n",
    "elif price>=50000:\n",
    "    dc = 7\n",
    "elif price>=10000:\n",
    "    dc = 5\n",
    "else:\n",
    "    dc=0\n",
    "\n",
    "print(f'''\n",
    "구매가 : {price}\n",
    "할인율 : {dc}\n",
    "할인가격 : {price*(dc/100)}\n",
    "구매가격 : {price-price*(dc/100)}\n",
    "''')"
   ]
  },
  {
   "cell_type": "code",
   "execution_count": 13,
   "id": "06e97922",
   "metadata": {},
   "outputs": [
    {
     "name": "stdout",
     "output_type": "stream",
     "text": [
      "숫자1은? 10\n",
      "숫자2는? 10\n",
      "사칙연산 : /\n",
      "10 / 10 = 1.0\n"
     ]
    }
   ],
   "source": [
    "num1 = int(input('숫자1은? '))\n",
    "num2 = int(input('숫자2는? '))\n",
    "op = input('사칙연산 : ')\n",
    "\n",
    "if op == '+':\n",
    "    print(f'{num1} + {num2} = {num1+num2}')\n",
    "elif op == '-':\n",
    "    print(f'{num1} - {num2} = {num1-num2}')\n",
    "elif op == '*':\n",
    "    print(f'{num1} * {num2} = {num1*num2}')\n",
    "elif op == '/':\n",
    "    print(f'{num1} / {num2} = {num1/num2}')\n",
    "else:\n",
    "    print('잘못 입력하셨습니다')"
   ]
  },
  {
   "cell_type": "code",
   "execution_count": 23,
   "id": "e4f25f31",
   "metadata": {},
   "outputs": [
    {
     "name": "stdout",
     "output_type": "stream",
     "text": [
      "1번째, 정답은 무엇일까요??  42\n",
      "Up\n",
      "2번째, 정답은 무엇일까요??  67\n",
      "Down\n",
      "3번째, 정답은 무엇일까요??  53\n",
      "Down\n",
      "4번째, 정답은 무엇일까요??  49\n",
      "Up\n",
      "5번째, 정답은 무엇일까요??  51\n",
      "51번! 정답입니다!\n",
      "5번 만에 맞추었습니다\n"
     ]
    }
   ],
   "source": [
    "import random\n",
    "def game(max_count=5):\n",
    "    num = random.randint(1,100)\n",
    "    cnt=0\n",
    "    while max_count>cnt:\n",
    "        cnt+=1\n",
    "        a = int(input(f'{cnt}번째, 정답은 무엇일까요??  '))\n",
    "        if a == num:\n",
    "            print(f'{num}! 정답입니다!')\n",
    "            print(f'{cnt}번 만에 맞추었습니다')\n",
    "            return\n",
    "        if a<num:\n",
    "            print('Up')\n",
    "        else:\n",
    "            print('Down')\n",
    "    print(f'정답은 {num}이었습니다.')\n",
    "game()"
   ]
  },
  {
   "cell_type": "code",
   "execution_count": 24,
   "id": "7b53aaa0",
   "metadata": {},
   "outputs": [
    {
     "name": "stdout",
     "output_type": "stream",
     "text": [
      "id를 입력하세요! id123\n",
      "pwd를 입력하세요! d\n",
      "pwd가 틀립니다. 다시 입력해주세요\n",
      "id를 입력하세요! d\n",
      "pwd를 입력하세요! pwd123\n",
      "id가 틀립니다. 다시 입력해주세요\n",
      "id를 입력하세요! id123\n",
      "pwd를 입력하세요! pwd123\n"
     ]
    }
   ],
   "source": [
    "id = 'id123'\n",
    "pwd = 'pwd123'\n",
    "\n",
    "while True:\n",
    "    a = input('id를 입력하세요! ')\n",
    "    b = input('pwd를 입력하세요! ')\n",
    "    if id==a and pwd==b:\n",
    "        break\n",
    "    if id!=a:\n",
    "        print('id가 틀립니다. 다시 입력해주세요')\n",
    "    elif pwd!=b:\n",
    "        print('pwd가 틀립니다. 다시 입력해주세요')"
   ]
  }
 ],
 "metadata": {
  "kernelspec": {
   "display_name": "Python 3 (ipykernel)",
   "language": "python",
   "name": "python3"
  },
  "language_info": {
   "codemirror_mode": {
    "name": "ipython",
    "version": 3
   },
   "file_extension": ".py",
   "mimetype": "text/x-python",
   "name": "python",
   "nbconvert_exporter": "python",
   "pygments_lexer": "ipython3",
   "version": "3.11.4"
  }
 },
 "nbformat": 4,
 "nbformat_minor": 5
}
