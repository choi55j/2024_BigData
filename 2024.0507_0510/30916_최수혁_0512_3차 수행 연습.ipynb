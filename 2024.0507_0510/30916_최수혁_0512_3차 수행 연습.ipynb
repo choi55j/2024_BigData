{
 "cells": [
  {
   "cell_type": "code",
   "execution_count": 3,
   "id": "b63ca425",
   "metadata": {},
   "outputs": [
    {
     "name": "stdout",
     "output_type": "stream",
     "text": [
      "영어단어,  뜻 banana, 바나나\n",
      "영어단어,  뜻 \n"
     ]
    },
    {
     "data": {
      "text/plain": [
       "{'banana': ' 바나나'}"
      ]
     },
     "execution_count": 3,
     "metadata": {},
     "output_type": "execute_result"
    }
   ],
   "source": [
    "di = {}\n",
    "\n",
    "while True:\n",
    "    a=input('영어단어,  뜻 ')\n",
    "    if a=='':\n",
    "        break\n",
    "    eng = a.split(',')[0]\n",
    "    kor = a.split(',')[1]\n",
    "    di[eng] = kor\n",
    "di"
   ]
  },
  {
   "cell_type": "code",
   "execution_count": 5,
   "id": "466ae7a3",
   "metadata": {},
   "outputs": [
    {
     "name": "stdout",
     "output_type": "stream",
     "text": [
      "구매 가격은? 100000\n",
      "\n",
      "구매가 : 100000\n",
      "할인율 : 10%\n",
      "할인가격 : 10000.0\n",
      "구매가격 : 90000.0\n",
      "\n"
     ]
    }
   ],
   "source": [
    "price = int(input('구매 가격은? '))\n",
    "if price>=100000:\n",
    "    dc = 10\n",
    "elif price >= 50000:\n",
    "    dc = 7\n",
    "elif price >= 10000:\n",
    "    dc = 5\n",
    "else:\n",
    "    dc = 0\n",
    "print(f'''\n",
    "구매가 : {price}\n",
    "할인율 : {dc}%\n",
    "할인가격 : {price*(dc/100)}\n",
    "구매가격 : {price-price*(dc/100)}\n",
    "''')"
   ]
  },
  {
   "cell_type": "code",
   "execution_count": 7,
   "id": "e87d830f",
   "metadata": {},
   "outputs": [
    {
     "name": "stdout",
     "output_type": "stream",
     "text": [
      "숫자1은? : 10\n",
      "숫자2는? : 10\n",
      "연산자ㅇ\n",
      "잘 못 입력하셨습니다\n"
     ]
    }
   ],
   "source": [
    "num1 = int(input('숫자1은? : '))\n",
    "num2 = int(input('숫자2는? : '))\n",
    "op = input('연산자')\n",
    "\n",
    "if op=='+':\n",
    "    print(f'{num1} + {num2} = {num1+num2}')\n",
    "elif op=='-':\n",
    "    print(f'{num1} - {num2} = {num1-num2}')\n",
    "elif op=='*':\n",
    "    print(f'{num1} * {num2} = {num1*num2}')\n",
    "elif op=='/':\n",
    "    print(f'{num1} / {num2} = {num1/num2}')\n",
    "else:\n",
    "    print('잘 못 입력하셨습니다')"
   ]
  },
  {
   "cell_type": "code",
   "execution_count": 13,
   "id": "11b96412",
   "metadata": {},
   "outputs": [
    {
     "name": "stdout",
     "output_type": "stream",
     "text": [
      "{cnt}. 예상 숫자는? 30\n",
      "Down\n",
      "{cnt}. 예상 숫자는? 15\n",
      "Down\n",
      "{cnt}. 예상 숫자는? 9\n",
      "Down\n",
      "{cnt}. 예상 숫자는? 3\n",
      "Up\n",
      "{cnt}. 예상 숫자는? 7\n",
      "정답입니다\n",
      "5만에 맞추셨습니다\n"
     ]
    }
   ],
   "source": [
    "import random\n",
    "def game(max=5):\n",
    "    num = random.randint(1,100)\n",
    "    cnt = 0\n",
    "    while cnt<max:\n",
    "        cnt+=1\n",
    "        a=int(input('{cnt}. 예상 숫자는? '))\n",
    "        if a==num:\n",
    "            print(f'정답입니다')\n",
    "            print(f'{cnt}만에 맞추셨습니다')\n",
    "            return\n",
    "        if a<num:\n",
    "            print('Up')\n",
    "        else:\n",
    "            print('Down')\n",
    "    print(f'횟수 초과입니다 정답은 {num} 이었습니다')\n",
    "game()"
   ]
  },
  {
   "cell_type": "code",
   "execution_count": 14,
   "id": "f6335f32",
   "metadata": {},
   "outputs": [
    {
     "name": "stdout",
     "output_type": "stream",
     "text": [
      "아이디를 입력하세요123\n",
      "비밀번호를 입력하세요213\n",
      "아이디를 확인하세요\n",
      "비밀번호를 확인하세요\n",
      "아이디를 입력하세요id123\n",
      "비밀번호를 입력하세요pwd32\n",
      "비밀번호를 확인하세요\n",
      "아이디를 입력하세요id\n",
      "비밀번호를 입력하세요pwd123\n",
      "아이디를 확인하세요\n",
      "아이디를 입력하세요id123\n",
      "비밀번호를 입력하세요pwd123\n"
     ]
    }
   ],
   "source": [
    "id = 'id123'\n",
    "pwd = 'pwd123'\n",
    "\n",
    "while True:\n",
    "    a = input('아이디를 입력하세요')\n",
    "    b = input('비밀번호를 입력하세요')\n",
    "    if id==a and pwd==b:\n",
    "        break\n",
    "    if a!=id:\n",
    "        print('아이디를 확인하세요')\n",
    "    if b!=pwd:\n",
    "        print('비밀번호를 확인하세요')"
   ]
  },
  {
   "cell_type": "code",
   "execution_count": null,
   "id": "6019ac88",
   "metadata": {},
   "outputs": [],
   "source": []
  }
 ],
 "metadata": {
  "kernelspec": {
   "display_name": "Python 3 (ipykernel)",
   "language": "python",
   "name": "python3"
  },
  "language_info": {
   "codemirror_mode": {
    "name": "ipython",
    "version": 3
   },
   "file_extension": ".py",
   "mimetype": "text/x-python",
   "name": "python",
   "nbconvert_exporter": "python",
   "pygments_lexer": "ipython3",
   "version": "3.11.4"
  }
 },
 "nbformat": 4,
 "nbformat_minor": 5
}
